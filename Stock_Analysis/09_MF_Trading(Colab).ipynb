{
 "cells": [
  {
   "cell_type": "code",
   "execution_count": null,
   "metadata": {
    "colab": {
     "base_uri": "https://localhost:8080/"
    },
    "id": "kx15DH0jYjuJ",
    "outputId": "f04a2d37-4efa-4d79-afbc-1220dba8c647"
   },
   "outputs": [],
   "source": [
    "!pip install yfinance pandas-datareader finance-datareader"
   ]
  },
  {
   "cell_type": "code",
   "execution_count": null,
   "metadata": {
    "id": "5fwZPNT8YamL",
    "is_executing": true
   },
   "outputs": [],
   "source": [
    "from pandas_datareader import data as pdr\n",
    "\n",
    "import yfinance as yf\n",
    "yf.pdr_override()\n",
    "\n",
    "import numpy as np\n",
    "import pandas as pd\n",
    "\n",
    "import FinanceDataReader as fdr"
   ]
  },
  {
   "cell_type": "code",
   "execution_count": null,
   "metadata": {
    "id": "WLobIiMOZUxR"
   },
   "outputs": [],
   "source": [
    "# MF_Trading Rate Back Testing 함수화\n",
    "\n",
    "def get_return_mf(code):\n",
    "  df = fdr.DataReader(code,'2018')\n",
    "\n",
    "  df = df.reset_index()\n",
    "  df = df[['Date','Open']]\n",
    "\n",
    "  df['Day'] = pd.to_datetime(df['Date']).dt.day_name()\n",
    "\n",
    "  cond = (df['Day'] == 'Friday') | (df['Day'] == 'Monday')\n",
    "\n",
    "  df = df[cond]\n",
    "\n",
    "  if df.iloc[0,2] == 'Friday':\n",
    "    df = df.drop(index = df.index[0])\n",
    "\n",
    "  if df.iloc[-1,2] == 'Monday':\n",
    "    df = df.drop(index = df.index[-1])\n",
    "\n",
    "  cond = (df['Day'] == 'Monday') & (df['Day'].shift(-1) == 'Monday')\n",
    "  df = df.drop(index = df[cond].index)\n",
    "\n",
    "  cond = (df['Day'] == 'Friday') & (df['Day'].shift(1) == 'Friday')\n",
    "  df = df.drop(index = df[cond].index)\n",
    "\n",
    "  df['Open_fri'] = df['Open'].shift(-1)\n",
    "\n",
    "  df = df[df['Day']=='Monday']\n",
    "\n",
    "  df = df[['Open','Open_fri']]\n",
    "\n",
    "  df.columns = ['buy_at','sell_at']\n",
    "\n",
    "  df['return'] = df['sell_at'] / df['buy_at']\n",
    "\n",
    "  cond = (df['sell_at'] != 0) & (df['buy_at'] != 0)\n",
    "  df = df[cond]\n",
    "\n",
    "  return df[['return']].cumprod().iloc[-1,-1] - 1"
   ]
  },
  {
   "cell_type": "code",
   "execution_count": null,
   "metadata": {
    "colab": {
     "base_uri": "https://localhost:8080/"
    },
    "id": "8rCbjbBLZvzu",
    "outputId": "126ed4a9-dd08-464d-a9b5-b78fa96a6683"
   },
   "outputs": [],
   "source": [
    "get_return_mf('005930')"
   ]
  },
  {
   "cell_type": "code",
   "execution_count": null,
   "metadata": {
    "colab": {
     "base_uri": "https://localhost:8080/"
    },
    "id": "NYoT90hRb8g1",
    "outputId": "0ccc8615-5cac-4e21-c9f3-8cd34fd5b0db"
   },
   "outputs": [],
   "source": [
    "!pip install dart-fss"
   ]
  },
  {
   "cell_type": "code",
   "execution_count": null,
   "metadata": {
    "colab": {
     "base_uri": "https://localhost:8080/",
     "height": 90,
     "referenced_widgets": [
      "bbeb437bf0bb41e09b0438ad042f53b8",
      "ba8082e2a5df4e62841210ce6163d007"
     ]
    },
    "id": "rmf2VPOtcD1x",
    "is_executing": true,
    "outputId": "3e2c1f06-eb7e-496a-f2b4-b1f609d70da0"
   },
   "outputs": [],
   "source": [
    "# 상장 종목 가져오기\n",
    "\n",
    "import dart_fss as dart_fss\n",
    "import pandas as pd\n",
    "\n",
    "api_key = ''\n",
    "dart_fss.set_api_key(api_key=api_key)\n",
    "\n",
    "all = dart_fss.api.filings.get_corp_code()\n",
    "\n",
    "df = pd.DataFrame(all)\n",
    "\n",
    "df_listed = df[df['stock_code'].notnull()]"
   ]
  },
  {
   "cell_type": "code",
   "execution_count": null,
   "metadata": {
    "colab": {
     "base_uri": "https://localhost:8080/",
     "height": 530
    },
    "id": "bpXOJaUBcU1L",
    "outputId": "bd75d447-5e0b-42cf-b3b1-c49db98ffedb"
   },
   "outputs": [],
   "source": [
    "# 상장기업 10개 랜덤 추출 후 MF_Trading 최적화 종목 찾기\n",
    "\n",
    "df = pd.DataFrame()\n",
    "for row in df_listed.sample(10)[['stock_code','corp_name']].itertuples():\n",
    "  try:\n",
    "    doc = {\n",
    "        'name' : row[2],\n",
    "        'return' : get_return_mf(row[1])\n",
    "    }\n",
    "    df = df.append(doc, ignore_index = True)\n",
    "  except:\n",
    "    print(f'error - {row[2]}')\n",
    "\n",
    "df.sort_values(by='return', ascending=False)"
   ]
  },
  {
   "cell_type": "code",
   "execution_count": null,
   "metadata": {
    "colab": {
     "base_uri": "https://localhost:8080/"
    },
    "id": "LNB07NI-c1Hq",
    "outputId": "5c1b5279-25f8-49b6-eafe-f76e223844cd"
   },
   "outputs": [],
   "source": [
    "# 상장기업 M_F Trading 최적화 종목 찾기\n",
    "\n",
    "df = pd.DataFrame()\n",
    "for row in df_listed[['stock_code','corp_name']].itertuples():\n",
    "  try:\n",
    "    doc = {\n",
    "        'name' : row[2],\n",
    "        'return' : get_return_mf(row[1])\n",
    "    }\n",
    "    df = df.append(doc, ignore_index = True)\n",
    "  except:\n",
    "    print(f'error - {row[2]}')\n",
    "\n",
    "df.sort_values(by='return', ascending=False)"
   ]
  },
  {
   "cell_type": "code",
   "execution_count": null,
   "metadata": {
    "collapsed": false
   },
   "outputs": [],
   "source": []
  }
 ],
 "metadata": {
  "colab": {
   "provenance": []
  },
  "kernelspec": {
   "display_name": "Python 3 (ipykernel)",
   "language": "python",
   "name": "python3"
  },
  "language_info": {
   "name": "python"
  },
  "widgets": {
   "application/vnd.jupyter.widget-state+json": {
    "ba8082e2a5df4e62841210ce6163d007": {
     "model_module": "@jupyter-widgets/base",
     "model_module_version": "1.2.0",
     "model_name": "LayoutModel",
     "state": {
      "_model_module": "@jupyter-widgets/base",
      "_model_module_version": "1.2.0",
      "_model_name": "LayoutModel",
      "_view_count": null,
      "_view_module": "@jupyter-widgets/base",
      "_view_module_version": "1.2.0",
      "_view_name": "LayoutView",
      "align_content": null,
      "align_items": null,
      "align_self": null,
      "border": null,
      "bottom": null,
      "display": null,
      "flex": null,
      "flex_flow": null,
      "grid_area": null,
      "grid_auto_columns": null,
      "grid_auto_flow": null,
      "grid_auto_rows": null,
      "grid_column": null,
      "grid_gap": null,
      "grid_row": null,
      "grid_template_areas": null,
      "grid_template_columns": null,
      "grid_template_rows": null,
      "height": null,
      "justify_content": null,
      "justify_items": null,
      "left": null,
      "margin": null,
      "max_height": null,
      "max_width": null,
      "min_height": null,
      "min_width": null,
      "object_fit": null,
      "object_position": null,
      "order": null,
      "overflow": null,
      "overflow_x": null,
      "overflow_y": null,
      "padding": null,
      "right": null,
      "top": null,
      "visibility": null,
      "width": null
     }
    },
    "bbeb437bf0bb41e09b0438ad042f53b8": {
     "model_module": "@jupyter-widgets/output",
     "model_module_version": "1.0.0",
     "model_name": "OutputModel",
     "state": {
      "_dom_classes": [],
      "_model_module": "@jupyter-widgets/output",
      "_model_module_version": "1.0.0",
      "_model_name": "OutputModel",
      "_view_count": null,
      "_view_module": "@jupyter-widgets/output",
      "_view_module_version": "1.0.0",
      "_view_name": "OutputView",
      "layout": "IPY_MODEL_ba8082e2a5df4e62841210ce6163d007",
      "msg_id": "",
      "outputs": [
       {
        "name": "stdout",
        "output_type": "stream",
        "text": "\r⠋ Downloading CORPCODE.zip"
       },
       {
        "name": "stdout",
        "output_type": "stream",
        "text": "\r⠙ Downloading CORPCODE.zip"
       },
       {
        "name": "stdout",
        "output_type": "stream",
        "text": "\r⠹ Downloading CORPCODE.zip"
       },
       {
        "name": "stdout",
        "output_type": "stream",
        "text": "\r⠸ Downloading CORPCODE.zip"
       }
      ]
     }
    }
   }
  }
 },
 "nbformat": 4,
 "nbformat_minor": 0
}
