{
 "cells": [
  {
   "cell_type": "code",
   "execution_count": null,
   "metadata": {
    "is_executing": true
   },
   "outputs": [],
   "source": [
    "!pip install dart-fss"
   ]
  },
  {
   "cell_type": "code",
   "execution_count": null,
   "metadata": {
    "colab": {
     "base_uri": "https://localhost:8080/",
     "height": 35
    },
    "id": "Gnq84SKfWMJW",
    "outputId": "5f223f3c-9112-4721-f53d-0e2c46131408"
   },
   "outputs": [],
   "source": [
    "import dart_fss as dart_fss\n",
    "import pandas as pd\n",
    "\n",
    "api_key = ''\n",
    "dart_fss.set_api_key(api_key=api_key)"
   ]
  },
  {
   "cell_type": "code",
   "execution_count": null,
   "metadata": {
    "colab": {
     "base_uri": "https://localhost:8080/",
     "height": 17,
     "referenced_widgets": [
      "7d4607d714734ff6935002b41273da3b",
      "8a2073de3a174a718b18fa6280a3087c"
     ]
    },
    "id": "V0QdClqnXtI5",
    "outputId": "e4a574c5-cdff-4091-a2f0-34ecc4d426be"
   },
   "outputs": [],
   "source": [
    "# 전체종목\n",
    "\n",
    "all=dart_fss.api.filings.get_corp_code()\n",
    "df = pd.DataFrame(all)"
   ]
  },
  {
   "cell_type": "code",
   "execution_count": null,
   "metadata": {
    "collapsed": false,
    "is_executing": true
   },
   "outputs": [],
   "source": [
    "all[0]"
   ]
  },
  {
   "cell_type": "code",
   "execution_count": null,
   "metadata": {
    "colab": {
     "base_uri": "https://localhost:8080/"
    },
    "id": "wEPp7rMAX0Pg",
    "is_executing": true,
    "outputId": "e7a282b1-901c-4fce-aa4e-87fa5c77af2f"
   },
   "outputs": [],
   "source": [
    "# 상장사 리스트\n",
    "\n",
    "df_listed = df[df['stock_code'].notnull()]\n",
    "df_listed.count()"
   ]
  },
  {
   "cell_type": "code",
   "execution_count": null,
   "metadata": {
    "colab": {
     "base_uri": "https://localhost:8080/"
    },
    "id": "k9ODJA99YOhI",
    "is_executing": true,
    "outputId": "01f8f2e8-d4ac-4426-9dc1-66d7bb48904d"
   },
   "outputs": [],
   "source": [
    "# 비상장사 리스트\n",
    "\n",
    "df_non_listed = df[df['stock_code'].isnull()]\n",
    "df_non_listed.count()"
   ]
  },
  {
   "cell_type": "code",
   "execution_count": null,
   "metadata": {
    "id": "nrzmyj-nYmfb",
    "is_executing": true
   },
   "outputs": [],
   "source": [
    "# df_listed.to_excel('상장종목.xlsx')\n",
    "# df_non_listed.to_excel('비상장종목.xlsx')"
   ]
  },
  {
   "cell_type": "code",
   "execution_count": null,
   "metadata": {
    "colab": {
     "base_uri": "https://localhost:8080/",
     "height": 35
    },
    "id": "OQKuvwYrZMv-",
    "is_executing": true,
    "outputId": "5bd31a25-0de4-4410-f863-b70ecc702b91"
   },
   "outputs": [],
   "source": [
    "# 기업 정보\n",
    "corp_code = df_listed[df_listed['corp_name'] == '카카오'].iloc[0,0]\n",
    "dart_fss.api.filings.get_corp_info(corp_code)\n",
    "corp_code"
   ]
  },
  {
   "cell_type": "code",
   "execution_count": null,
   "metadata": {
    "colab": {
     "base_uri": "https://localhost:8080/",
     "height": 81
    },
    "id": "sO_HSsmnZsSz",
    "outputId": "b2f48836-b9a1-4a12-bfa5-ed67152dd99f"
   },
   "outputs": [],
   "source": [
    "# 사업보고서 주요 정보\n",
    "\n",
    "data = dart_fss.api.info.unrst_exctv_mendng_sttus(corp_code, '2021', '11011')\n",
    "pd.DataFrame(data['list'])"
   ]
  },
  {
   "cell_type": "code",
   "execution_count": null,
   "metadata": {
    "colab": {
     "base_uri": "https://localhost:8080/",
     "height": 424
    },
    "id": "Q3q0B2-qaaTt",
    "is_executing": true,
    "outputId": "e247dba2-608c-4d52-ffbc-6c8a5f0a4616"
   },
   "outputs": [],
   "source": [
    "# 증자 현황\n",
    "\n",
    "data = dart_fss.api.info.irds_sttus(corp_code, '2021', '11011')\n",
    "pd.DataFrame(data['list'])"
   ]
  },
  {
   "cell_type": "code",
   "execution_count": null,
   "metadata": {
    "colab": {
     "base_uri": "https://localhost:8080/",
     "height": 520
    },
    "id": "4MLsAVv7bIHj",
    "outputId": "030c6af3-0c31-4efa-a9d5-cf59d4c7ace0"
   },
   "outputs": [],
   "source": [
    "# 배당 현황\n",
    "\n",
    "data = dart_fss.api.info.alot_matter(corp_code, '2022', '11011')\n",
    "pd.DataFrame(data['list'])"
   ]
  },
  {
   "cell_type": "code",
   "execution_count": null,
   "metadata": {
    "colab": {
     "base_uri": "https://localhost:8080/",
     "height": 719
    },
    "id": "FaoYU5AybYY2",
    "is_executing": true,
    "outputId": "021e8aa1-3163-4edd-b40e-5f88bcea3866"
   },
   "outputs": [],
   "source": [
    "# 최대 주주 현황\n",
    "\n",
    "data = dart_fss.api.info.hyslr_sttus(corp_code, '2021', '11011')\n",
    "pd.DataFrame(data['list'])"
   ]
  },
  {
   "cell_type": "code",
   "execution_count": null,
   "metadata": {
    "colab": {
     "base_uri": "https://localhost:8080/",
     "height": 495
    },
    "id": "YUKpZsUfdvKq",
    "outputId": "f70705e5-9acc-4cd5-e997-c19f4deb0710"
   },
   "outputs": [],
   "source": [
    "# 임원 현황\n",
    "\n",
    "corp_code = df_listed[df_listed['corp_name'] == '카카오'].iloc[0,0]\n",
    "data = dart_fss.api.info.exctv_sttus(corp_code, '2021', '11011')\n",
    "\n",
    "pd.DataFrame(data['list'])"
   ]
  },
  {
   "cell_type": "code",
   "execution_count": null,
   "metadata": {
    "colab": {
     "base_uri": "https://localhost:8080/",
     "height": 424
    },
    "id": "adVuG3R6b_3Z",
    "is_executing": true,
    "outputId": "2c87a53b-0a6c-4b95-f2db-788ca9cd13d4"
   },
   "outputs": [],
   "source": [
    "# 기초 소유 주식 지분율, 기말 소유 주식 지분율 현황\n",
    "\n",
    "data = dart_fss.api.info.hyslr_sttus(corp_code, '2021', '11011')\n",
    "pd.DataFrame(data['list'])[['nm','bsis_posesn_stock_qota_rt','trmend_posesn_stock_qota_rt']]"
   ]
  },
  {
   "cell_type": "code",
   "execution_count": null,
   "metadata": {
    "colab": {
     "base_uri": "https://localhost:8080/",
     "height": 132
    },
    "id": "5aPJKHXXdOf1",
    "outputId": "288be6b1-cda8-4f9a-bf10-d1e4b71b87ee"
   },
   "outputs": [],
   "source": [
    "# 직원, 남여 평균 급여 현황\n",
    "\n",
    "corp_code = df_listed[df_listed['corp_name'] == '카카오'].iloc[0,0]\n",
    "data = dart_fss.api.info.emp_sttus(corp_code, '2021', '11011')\n",
    "\n",
    "pd.DataFrame(data['list'])"
   ]
  },
  {
   "cell_type": "code",
   "execution_count": null,
   "metadata": {
    "colab": {
     "base_uri": "https://localhost:8080/",
     "height": 143
    },
    "id": "Kjoss6QHeBjs",
    "is_executing": true,
    "outputId": "224be572-654e-467b-a4cd-53bef03e934a"
   },
   "outputs": [],
   "source": [
    "# 이사 보수 현황\n",
    "\n",
    "corp_code = df_listed[df_listed['corp_name'] == '카카오'].iloc[0,0]\n",
    "data = dart_fss.api.info.hmv_audit_indvdl_by_sttus(corp_code, '2021', '11011')\n",
    "\n",
    "pd.DataFrame(data['list'])"
   ]
  },
  {
   "cell_type": "code",
   "execution_count": null,
   "metadata": {
    "colab": {
     "base_uri": "https://localhost:8080/",
     "height": 206
    },
    "id": "VbqSQ3creFtq",
    "is_executing": true,
    "outputId": "9155d53c-b67a-4cc3-a4df-8ea3770b02a4"
   },
   "outputs": [],
   "source": [
    "# 연봉 Top5 현황\n",
    "\n",
    "corp_code = df_listed[df_listed['corp_name'] == '카카오'].iloc[0,0]\n",
    "data = dart_fss.api.info.indvdl_by_pay(corp_code, '2021', '11011')\n",
    "\n",
    "pd.DataFrame(data['list'])"
   ]
  },
  {
   "cell_type": "code",
   "execution_count": null,
   "metadata": {
    "colab": {
     "base_uri": "https://localhost:8080/",
     "height": 1000
    },
    "id": "EDHYIrlHerci",
    "is_executing": true,
    "outputId": "c78df5ce-dde6-49eb-e601-656c324ca0ef"
   },
   "outputs": [],
   "source": [
    "# 재무제표 3년 주요 정보\n",
    "\n",
    "corp_code = df_listed[df_listed['corp_name'] == '카카오'].iloc[0,0]\n",
    "data = dart_fss.api.finance.fnltt_singl_acnt(corp_code, '2021', '11011')\n",
    "\n",
    "pd.DataFrame(data['list'])\n"
   ]
  },
  {
   "cell_type": "code",
   "execution_count": null,
   "metadata": {
    "colab": {
     "base_uri": "https://localhost:8080/",
     "height": 912
    },
    "id": "HZFJqVA8fKWG",
    "is_executing": true,
    "outputId": "8c019485-4829-460e-813a-4dd30b0ff484"
   },
   "outputs": [],
   "source": [
    "# 재무제표 모든 주요 정보\n",
    "\n",
    "corp_code = df_listed[df_listed['corp_name'] == '카카오'].iloc[0,0]\n",
    "data = dart_fss.api.finance.fnltt_singl_acnt_all(corp_code, '2021', '11011', 'CFS')\n",
    "\n",
    "pd.DataFrame(data['list'])"
   ]
  },
  {
   "cell_type": "code",
   "execution_count": null,
   "metadata": {
    "colab": {
     "base_uri": "https://localhost:8080/",
     "height": 1000
    },
    "id": "5vUlgUBqfe-N",
    "is_executing": true,
    "outputId": "7ad129b2-9739-470a-b0c9-ee76b733cdf0"
   },
   "outputs": [],
   "source": [
    "# 임원, 주요 주주 소유 보고 현황\n",
    "\n",
    "corp_code = df_listed[df_listed['corp_name'] == '카카오'].iloc[0,0]\n",
    "data = dart_fss.api.shareholder.elestock(corp_code)\n",
    "\n",
    "pd.DataFrame(data['list'])"
   ]
  },
  {
   "cell_type": "code",
   "execution_count": null,
   "metadata": {
    "colab": {
     "base_uri": "https://localhost:8080/",
     "height": 264
    },
    "id": "oAPtuKsngFa0",
    "outputId": "89a68ed4-c638-4fe1-e89a-a2962a8d8c8a"
   },
   "outputs": [],
   "source": [
    "# 임원, 주주 중 특정인 소유 보고 현황\n",
    "\n",
    "corp_code = df_listed[df_listed['corp_name'] == '카카오'].iloc[0,0]\n",
    "data = dart_fss.api.shareholder.elestock(corp_code)\n",
    "\n",
    "df_temp = pd.DataFrame(data['list'])\n",
    "df_temp[df_temp['repror'] == '김범수']"
   ]
  },
  {
   "cell_type": "code",
   "execution_count": null,
   "metadata": {
    "id": "tbvN8AgfidyF",
    "is_executing": true
   },
   "outputs": [],
   "source": [
    "# 특정 회사의 연봉 추출\n",
    "\n",
    "def get_salary(name):\n",
    "  corp_code = df_listed[df_listed['corp_name'] == name].iloc[0,0]\n",
    "  data = dart_fss.api.info.indvdl_by_pay(corp_code, '2021', '11011')\n",
    "\n",
    "  df = pd.DataFrame(data['list'])\n",
    "  df = df[['corp_name','nm','ofcps','mendng_totamt']]\n",
    "  df.columns = ['기업명','이름','역할','보수']\n",
    "  df['보수'] = pd.to_numeric(df['보수'].str.replace(',',''))\n",
    "  # 백만원 단위에 콤마 추가\n",
    "  df['보수'] = df['보수'].apply(lambda x: '{:,.0f}'.format(x))\n",
    "  df = df.sort_values(by='보수',ascending=False)\n",
    "\n",
    "  return df"
   ]
  },
  {
   "cell_type": "code",
   "execution_count": null,
   "metadata": {
    "colab": {
     "base_uri": "https://localhost:8080/",
     "height": 206
    },
    "id": "VdKdo4HXkNTb",
    "is_executing": true,
    "outputId": "2abd7530-5943-4bfe-f2e7-fb0ad8cf303d"
   },
   "outputs": [],
   "source": [
    "get_salary('삼성전자')"
   ]
  },
  {
   "cell_type": "code",
   "execution_count": null,
   "metadata": {
    "colab": {
     "base_uri": "https://localhost:8080/",
     "height": 206
    },
    "id": "-yqFiLh5kPZy",
    "outputId": "4060c93f-0736-43a5-ff4b-c348692ebea8"
   },
   "outputs": [],
   "source": [
    "get_salary('카카오')"
   ]
  },
  {
   "cell_type": "code",
   "execution_count": null,
   "metadata": {
    "colab": {
     "base_uri": "https://localhost:8080/",
     "height": 681
    },
    "id": "r6EGeP3zkbtd",
    "is_executing": true,
    "outputId": "3a988991-6b4e-4610-f636-fb11cbb97682"
   },
   "outputs": [],
   "source": [
    "# 여러 종목의 연봉 추출\n",
    "\n",
    "pd.options.display.float_format\n",
    "\n",
    "names = ['삼성전자','LG에너지솔루션','SK하이닉스','NAVER','삼성바이오로직스','삼성전자우','카카오','삼성SDI','현대차','LG화학','기아','POSCO홀딩스','KB금융','카카오뱅크','셀트리온','신한지주','삼성물산','현대모비스','SK이노베이션','LG전자','카카오페이','SK','한국전력','크래프톤','하나금융지주','LG생활건강','HMM','삼성생명','하이브','두산중공업','SK텔레콤','삼성전기','SK바이오사이언스','LG','S-Oil','고려아연','KT&G','우리금융지주','대한항공','삼성에스디에스','현대중공업','엔씨소프트','삼성화재','아모레퍼시픽','KT','포스코케미칼','넷마블','SK아이이테크놀로지','LG이노텍','기업은행']\n",
    "\n",
    "dfs = []\n",
    "\n",
    "for name in names:\n",
    "  try:\n",
    "    df = get_salary(name)\n",
    "    dfs.append(df)\n",
    "  except:\n",
    "    print(f'없음 - {name}')\n",
    "\n",
    "df_result = pd.concat(dfs)\n",
    "df_result.sort_values(by='보수',ascending=False).head(30)"
   ]
  },
  {
   "cell_type": "code",
   "execution_count": null,
   "metadata": {
    "colab": {
     "base_uri": "https://localhost:8080/",
     "height": 143
    },
    "id": "gCVdtMH3mwA_",
    "is_executing": true,
    "outputId": "4d4fbc39-39e4-4290-905b-57a2144affb4"
   },
   "outputs": [],
   "source": [
    "# 특정 회사의 최대주주 지분율\n",
    "\n",
    "data = dart_fss.api.info.hyslr_sttus('00258801', '2021', '11011')\n",
    "df = pd.DataFrame(data['list'])\n",
    "\n",
    "df = df[['corp_name','nm','relate','bsis_posesn_stock_qota_rt','trmend_posesn_stock_qota_rt','rm']]\n",
    "df.columns = ['회사명','이름','관계','기초지분율','기말지분율','비고']\n",
    "\n",
    "df = df[df['관계'].notnull()]\n",
    "\n",
    "df['기초지분율'] = pd.to_numeric(df['기초지분율'])\n",
    "df['기말지분율'] = pd.to_numeric(df['기말지분율'])\n",
    "\n",
    "df.sort_values(by='기초지분율',ascending=False).head(3)"
   ]
  },
  {
   "cell_type": "code",
   "execution_count": null,
   "metadata": {
    "id": "5wl8pO3eomr1"
   },
   "outputs": [],
   "source": [
    "# 최대주주 지분율 함수화\n",
    "\n",
    "def get_shareholders(corp_code):\n",
    "  data = dart_fss.api.info.hyslr_sttus(corp_code, '2021', '11011')\n",
    "  df = pd.DataFrame(data['list'])\n",
    "\n",
    "  df = df[['corp_name','nm','relate','bsis_posesn_stock_qota_rt','trmend_posesn_stock_qota_rt','rm']]\n",
    "  df.columns = ['회사명','이름','관계','기초지분율','기말지분율','비고']\n",
    "\n",
    "  df = df[df['관계'].notnull()]\n",
    "\n",
    "  df['기초지분율'] = pd.to_numeric(df['기초지분율'])\n",
    "  df['기말지분율'] = pd.to_numeric(df['기말지분율'])\n",
    "\n",
    "  return df.sort_values(by='기초지분율',ascending=False).head(3)"
   ]
  },
  {
   "cell_type": "code",
   "execution_count": null,
   "metadata": {
    "colab": {
     "base_uri": "https://localhost:8080/",
     "height": 143
    },
    "id": "vByZOPZQp-4e",
    "is_executing": true,
    "outputId": "3311c8e8-6a14-48cd-cb5f-7864016845af"
   },
   "outputs": [],
   "source": [
    "get_shareholders('00258801')"
   ]
  },
  {
   "cell_type": "code",
   "execution_count": null,
   "metadata": {
    "colab": {
     "base_uri": "https://localhost:8080/",
     "height": 363
    },
    "id": "fAfwD5MIqCSY",
    "is_executing": true,
    "outputId": "10a26d25-db97-4cfa-b871-f3eccbc6849d"
   },
   "outputs": [],
   "source": [
    "# 랜덤 10개 추출\n",
    "\n",
    "df_listed.sample(10)"
   ]
  },
  {
   "cell_type": "code",
   "execution_count": null,
   "metadata": {
    "colab": {
     "base_uri": "https://localhost:8080/",
     "height": 802
    },
    "id": "xxhBT_XBqVti",
    "is_executing": true,
    "outputId": "ef9546f8-383c-4c87-ec43-ec1b3894511e"
   },
   "outputs": [],
   "source": [
    "# 랜덤 10개 추출의 최대주주 지분율\n",
    "\n",
    "corp_codes = list(df_listed.sample(10)['corp_code'])\n",
    "\n",
    "dfs = []\n",
    "for corp_code in corp_codes:\n",
    "  try:\n",
    "    df = get_shareholders(corp_code)\n",
    "    dfs.append(df)\n",
    "  except:\n",
    "    print(f'error - {corp_code}')\n",
    "\n",
    "df_result = pd.concat(dfs)\n",
    "\n",
    "df_result['증감'] = df_result['기말지분율'] - df_result['기초지분율']\n",
    "\n",
    "df_result.sort_values(by='증감',ascending=False)"
   ]
  },
  {
   "cell_type": "code",
   "execution_count": null,
   "metadata": {
    "id": "kkpR0trVsWNc",
    "is_executing": true
   },
   "outputs": [],
   "source": [
    "# 이이익잉여금 변화 함수화\n",
    "\n",
    "def get_profit(corp_name):\n",
    "  corp_code = df_listed[df_listed['corp_name'] == corp_name].iloc[0,0]\n",
    "  data = dart_fss.api.finance.fnltt_singl_acnt(corp_code, '2021', '11011')\n",
    "  df = pd.DataFrame(data['list'])\n",
    "\n",
    "  df = df[df['fs_div'] == 'CFS']\n",
    "\n",
    "  df['name'] = corp_name\n",
    "  cond = df['account_nm'] == '이익잉여금'\n",
    "  df = df[cond]\n",
    "\n",
    "  df = df[['name','thstrm_amount','frmtrm_amount']]\n",
    "  df.columns = ['이름','당기','전기']\n",
    "\n",
    "  df['당기'] = pd.to_numeric(df['당기'].str.replace(',',''))\n",
    "  df['전기'] = pd.to_numeric(df['전기'].str.replace(',',''))\n",
    "\n",
    "  df['증감'] = df['당기'] - df['전기']\n",
    "  df['증감율'] = abs(df['증감'])/abs(df['전기'])\n",
    "  \n",
    "  # 백만원 단위에 콤마 추가\n",
    "  df['당기'] = df['당기'].apply(lambda x: '{:,.0f}'.format(x))\n",
    "  df['전기'] = df['전기'].apply(lambda x: '{:,.0f}'.format(x))\n",
    "  df['증감'] = df['증감'].apply(lambda x: '{:,.0f}'.format(x))\n",
    "\n",
    "  return df"
   ]
  },
  {
   "cell_type": "code",
   "execution_count": null,
   "metadata": {
    "colab": {
     "base_uri": "https://localhost:8080/",
     "height": 81
    },
    "id": "hYJeh97RsblJ",
    "outputId": "1866217c-b434-4190-bf35-07855d562512"
   },
   "outputs": [],
   "source": [
    "get_profit('현대자동차')"
   ]
  },
  {
   "cell_type": "code",
   "execution_count": null,
   "metadata": {
    "colab": {
     "base_uri": "https://localhost:8080/",
     "height": 298
    },
    "id": "1OkFephNtSOZ",
    "is_executing": true,
    "outputId": "945b7b14-dd37-4882-e9d9-86e91472d4bd"
   },
   "outputs": [],
   "source": [
    "# 랜덤 10개 추출 기업의 이익잉여금 변화\n",
    "\n",
    "names = list(df_listed.sample(10)['corp_name'])\n",
    "\n",
    "dfs = []\n",
    "for name in names:\n",
    "  try:\n",
    "    df = get_profit(name)\n",
    "    dfs.append(df)\n",
    "  except:\n",
    "    print(f'error - {name}')\n",
    "\n",
    "df_result = pd.concat(dfs)\n",
    "df_result"
   ]
  },
  {
   "cell_type": "code",
   "execution_count": null,
   "metadata": {
    "colab": {
     "base_uri": "https://localhost:8080/",
     "height": 1000
    },
    "id": "Z1_-A_KCtbLk",
    "is_executing": true,
    "outputId": "ae6fb7f4-209d-400b-93d1-60e14ca94477"
   },
   "outputs": [],
   "source": [
    "# 랜덤 100개 추출 기업의 이익잉여금 변화\n",
    "\n",
    "names = list(df_listed.sample(100)['corp_name'])\n",
    "\n",
    "dfs = []\n",
    "for name in names:\n",
    "  try:\n",
    "    df = get_profit(name)\n",
    "    dfs.append(df)\n",
    "  except:\n",
    "    print(f'error - {name}')\n",
    "\n",
    "df_result = pd.concat(dfs)\n",
    "df_result.sort_values(by='증감율',ascending=False)"
   ]
  },
  {
   "cell_type": "code",
   "execution_count": null,
   "metadata": {
    "colab": {
     "base_uri": "https://localhost:8080/",
     "height": 89
    },
    "id": "BIaN2Oc6uZqO",
    "is_executing": true,
    "outputId": "6eb20293-7c22-4f67-aafd-78b596636580"
   },
   "outputs": [],
   "source": [
    "# 연결 포괄손익계산서 지배주주당기순이익 정보\n",
    "# 연결재무제표는 종속회사와 모회사를 하나로 보고 작성하는 재무제표\n",
    "# 종속회사의 기준 = 자회사의 지분율이 50%를 넘거나 자회사 지분이 30% 를 넘으면서 중요한 영향력을 행사할 수 있을 경우\n",
    "\n",
    "corp_code = df_non_listed[df_non_listed['corp_name'] == '야놀자'].iloc[0,0]\n",
    "data = dart_fss.api.info.alot_matter(corp_code, '2021', '11011')\n",
    "df = pd.DataFrame(data['list'])\n",
    "\n",
    "df = df[df['se'] == '(연결)당기순이익(백만원)'][['corp_name','thstrm','frmtrm','lwfr']]\n",
    "df.columns = ['기업명','2021','2020','2019']\n",
    "\n",
    "df['2019'] = pd.to_numeric(df['2019'].str.replace(',',''))\n",
    "df['2020'] = pd.to_numeric(df['2020'].str.replace(',',''))\n",
    "df['2021'] = pd.to_numeric(df['2021'].str.replace(',',''))\n",
    "\n",
    "# 백만원 단위에 콤마 추가\n",
    "df['2019'] = df['2019'].apply(lambda x: '{:,.0f}'.format(x))\n",
    "df['2020'] = df['2020'].apply(lambda x: '{:,.0f}'.format(x))\n",
    "df['2021'] = df['2021'].apply(lambda x: '{:,.0f}'.format(x))\n",
    "  \n",
    "df"
   ]
  },
  {
   "cell_type": "code",
   "execution_count": null,
   "metadata": {
    "id": "dzghBShuwfbk",
    "is_executing": true
   },
   "outputs": [],
   "source": [
    "# 배당 정보 함수화\n",
    "\n",
    "def get_earning(name):\n",
    "  corp_code = df_non_listed[df_non_listed['corp_name'] == name].iloc[0,0]\n",
    "  data = dart_fss.api.info.alot_matter(corp_code, '2021', '11011')\n",
    "  df = pd.DataFrame(data['list'])\n",
    "\n",
    "  df = df[df['se'] == '(연결)당기순이익(백만원)'][['corp_name','thstrm','frmtrm','lwfr']]\n",
    "  df.columns = ['기업명','2023','2022','2021']\n",
    "\n",
    "  df['2021'] = pd.to_numeric(df['2021'].str.replace(',',''))\n",
    "  df['2022'] = pd.to_numeric(df['2022'].str.replace(',',''))\n",
    "  df['2023'] = pd.to_numeric(df['2023'].str.replace(',',''))\n",
    "  \n",
    "  # 백만원 단위에 콤마 추가\n",
    "  df['2021'] = df['2021'].apply(lambda x: '{:,.0f}'.format(x))\n",
    "  df['2022'] = df['2022'].apply(lambda x: '{:,.0f}'.format(x))\n",
    "  df['2023'] = df['2023'].apply(lambda x: '{:,.0f}'.format(x))\n",
    "\n",
    "  return df"
   ]
  },
  {
   "cell_type": "code",
   "execution_count": null,
   "metadata": {
    "colab": {
     "base_uri": "https://localhost:8080/",
     "height": 81
    },
    "id": "SbcbPc3UwyJR",
    "outputId": "9868cd36-3596-436a-94e4-5d6b750f8582"
   },
   "outputs": [],
   "source": [
    "get_earning('비바리퍼블리카')"
   ]
  },
  {
   "cell_type": "code",
   "execution_count": null,
   "metadata": {
    "collapsed": false,
    "is_executing": true
   },
   "outputs": [],
   "source": [
    "# 직원 정보\n",
    "\n",
    "corp_code = df_listed[df_listed['corp_name'] == '카카오'].iloc[0,0]\n",
    "data = dart_fss.api.info.emp_sttus(corp_code, '2021', '11011')\n",
    "\n",
    "pd.DataFrame(data['list'])"
   ]
  },
  {
   "cell_type": "code",
   "execution_count": null,
   "metadata": {
    "is_executing": true
   },
   "outputs": [],
   "source": [
    "# 남여 연봉 차이 함수화\n",
    "\n",
    "def get_salary(corp_code):\n",
    "  data = dart_fss.api.info.emp_sttus(corp_code, '2021', '11011')\n",
    "\n",
    "  df = pd.DataFrame(data['list'])\n",
    "  df = df[['corp_name','sexdstn','jan_salary_am']]\n",
    "\n",
    "  df_result = pd.DataFrame()\n",
    "  doc = {\n",
    "      '기업명':df.iloc[0,0],\n",
    "      '연봉(남)':df[df['sexdstn'] == '남'].iloc[0,2],\n",
    "      '연봉(여)':df[df['sexdstn'] == '여'].iloc[0,2]\n",
    "  }\n",
    "  df_result = df_result.append(doc, ignore_index=True)\n",
    "\n",
    "  df_result['연봉(남)'] = pd.to_numeric(df_result['연봉(남)'].str.replace(',',''))\n",
    "  df_result['연봉(여)'] = pd.to_numeric(df_result['연봉(여)'].str.replace(',',''))\n",
    "\n",
    "  return df_result"
   ]
  },
  {
   "cell_type": "code",
   "execution_count": null,
   "metadata": {
    "collapsed": false
   },
   "outputs": [],
   "source": [
    "get_salary('00258801')"
   ]
  },
  {
   "cell_type": "code",
   "execution_count": null,
   "metadata": {
    "is_executing": true
   },
   "outputs": [],
   "source": [
    "# 랜덤 10개 기업 추출 후 남여 연봉 차이\n",
    "\n",
    "corp_codes = list(df_listed.sample(10)['corp_code'])\n",
    "\n",
    "dfs = []\n",
    "for corp_code in corp_codes:\n",
    "  try:\n",
    "    df = get_salary(corp_code)\n",
    "    dfs.append(df)\n",
    "  except:\n",
    "    print(f'error - {corp_code}')\n",
    "\n",
    "df_result = pd.concat(dfs)\n",
    "\n",
    "df_result['차이(남-여)'] = df_result['연봉(남)'] - df_result['연봉(여)']\n",
    "df_result['평균'] = (df_result['연봉(남)']+df_result['연봉(여)'])/2\n",
    "\n",
    "df_result.sort_values(by=\"차이(남-여)\",ascending=True)"
   ]
  }
 ],
 "metadata": {
  "colab": {
   "provenance": []
  },
  "kernelspec": {
   "display_name": "Python 3 (ipykernel)",
   "language": "python",
   "name": "python3"
  },
  "language_info": {
   "name": "python"
  },
  "widgets": {
   "application/vnd.jupyter.widget-state+json": {
    "7d4607d714734ff6935002b41273da3b": {
     "model_module": "@jupyter-widgets/output",
     "model_module_version": "1.0.0",
     "model_name": "OutputModel",
     "state": {
      "_dom_classes": [],
      "_model_module": "@jupyter-widgets/output",
      "_model_module_version": "1.0.0",
      "_model_name": "OutputModel",
      "_view_count": null,
      "_view_module": "@jupyter-widgets/output",
      "_view_module_version": "1.0.0",
      "_view_name": "OutputView",
      "layout": "IPY_MODEL_8a2073de3a174a718b18fa6280a3087c",
      "msg_id": "",
      "outputs": [
       {
        "name": "stdout",
        "output_type": "stream",
        "text": ""
       }
      ]
     }
    },
    "8a2073de3a174a718b18fa6280a3087c": {
     "model_module": "@jupyter-widgets/base",
     "model_module_version": "1.2.0",
     "model_name": "LayoutModel",
     "state": {
      "_model_module": "@jupyter-widgets/base",
      "_model_module_version": "1.2.0",
      "_model_name": "LayoutModel",
      "_view_count": null,
      "_view_module": "@jupyter-widgets/base",
      "_view_module_version": "1.2.0",
      "_view_name": "LayoutView",
      "align_content": null,
      "align_items": null,
      "align_self": null,
      "border": null,
      "bottom": null,
      "display": null,
      "flex": null,
      "flex_flow": null,
      "grid_area": null,
      "grid_auto_columns": null,
      "grid_auto_flow": null,
      "grid_auto_rows": null,
      "grid_column": null,
      "grid_gap": null,
      "grid_row": null,
      "grid_template_areas": null,
      "grid_template_columns": null,
      "grid_template_rows": null,
      "height": null,
      "justify_content": null,
      "justify_items": null,
      "left": null,
      "margin": null,
      "max_height": null,
      "max_width": null,
      "min_height": null,
      "min_width": null,
      "object_fit": null,
      "object_position": null,
      "order": null,
      "overflow": null,
      "overflow_x": null,
      "overflow_y": null,
      "padding": null,
      "right": null,
      "top": null,
      "visibility": null,
      "width": null
     }
    }
   }
  }
 },
 "nbformat": 4,
 "nbformat_minor": 0
}
