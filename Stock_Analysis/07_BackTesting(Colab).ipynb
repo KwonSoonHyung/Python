{
 "cells": [
  {
   "cell_type": "code",
   "outputs": [],
   "source": [
    "# FinanceDataReader를 사용하여 KRX 주식 코드 목록을 가져옵니다\n",
    "import FinanceDataReader as fdr\n",
    "df_krx = fdr.StockListing('KRX')\n",
    "\n",
    "# 개별 종목의 종가와 거래량 데이터를 가져와 데이터 프레임을 만듭니다\n",
    "df_individual_stocks = pd.DataFrame()\n",
    "\n",
    "# 첫 번째 컬럼의 이름인 Code를 반복해서 넣어주는 반복문을 만듭니다\n",
    "for code in df_krx['Code']:\n",
    "    # 각 종목의 종가와 거래량 데이터를 가져옵니다\n",
    "    stock_data = fdr.DataReader(code, '2023-01-01', '2023-12-31')\n",
    "    \n",
    "    # 종가와 거래량 데이터를 데이터프레임에 추가합니다\n",
    "    df_individual_stocks[code + '_Close'] = stock_data['Close']\n",
    "    df_individual_stocks[code + '_Volume'] = stock_data['Volume']\n",
    "\n",
    "# 가지고온 종가와 거래량 데이터를 데이터 프레임에 추가합니다\n",
    "# 인덱스를 시계열 데이터로 변경합니다\n",
    "df_individual_stocks.index = pd.to_datetime(stock_data.index)"
   ],
   "metadata": {
    "collapsed": false,
    "is_executing": true
   }
  },
  {
   "cell_type": "code",
   "outputs": [],
   "source": [
    "# FinanceDataReader를 사용하여 KRX 주식 코드 목록을 가져옵니다\n",
    "import FinanceDataReader as fdr\n",
    "df_krx = fdr.StockListing('KRX')\n",
    "\n",
    "# df_krx DataFrame의 첫 번째 열(종목코드)을 사용하여 주식 코드 목록을 얻습니다\n",
    "stock_codes = df_krx.iloc[:, 0].tolist()\n",
    "\n",
    "# 빈 DataFrame을 생성합니다\n",
    "df = pd.DataFrame()\n",
    "\n",
    "# 각 주식 코드에 대해 2023년의 종가와 거래량 데이터를 가져와서 DataFrame에 추가합니다\n",
    "for code in stock_codes:\n",
    "    # 각 주식 코드에 대해 2023년의 종가와 거래량 데이터를 가져옵니다\n",
    "    stock_data_2023 = fdr.DataReader(code, '2023-01-01', '2023-12-31')\n",
    "    \n",
    "    # 종가와 거래량 데이터를 DataFrame에 추가합니다\n",
    "    df[code + '_Close'] = stock_data_2023['Close']\n",
    "    df[code + '_Volume'] = stock_data_2023['Volume']\n",
    "\n",
    "# 인덱스를 시계열 데이터로 변환합니다\n",
    "df.index = pd.to_datetime(df.index)"
   ],
   "metadata": {
    "collapsed": false,
    "is_executing": true
   },
   "execution_count": null
  },
  {
   "cell_type": "code",
   "outputs": [],
   "source": [
    "df_krx"
   ],
   "metadata": {
    "collapsed": false
   },
   "execution_count": null
  },
  {
   "cell_type": "code",
   "execution_count": null,
   "metadata": {
    "colab": {
     "base_uri": "https://localhost:8080/",
     "height": 237
    },
    "id": "XspFhKXnACya",
    "outputId": "89c918d8-8462-4a89-f926-ac0e85302ba9"
   },
   "outputs": [],
   "source": [
    "from pandas_datareader import data as pdr\n",
    "\n",
    "import yfinance as yf\n",
    "yf.pdr_override()\n",
    "\n",
    "import numpy as np\n",
    "import pandas as pd\n",
    "\n",
    "import FinanceDataReader as fdr\n",
    "\n",
    "df = fdr.DataReader('005930','2018')\n",
    "\n",
    "df.head()"
   ]
  },
  {
   "cell_type": "code",
   "execution_count": null,
   "metadata": {
    "colab": {
     "base_uri": "https://localhost:8080/",
     "height": 455
    },
    "id": "By4EGaSfAQJG",
    "outputId": "12364395-2f64-482d-ca53-901720db3f96"
   },
   "outputs": [],
   "source": [
    "# 종가만 가져올 수 있겠죠!\n",
    "\n",
    "df[['Close']]"
   ]
  },
  {
   "cell_type": "code",
   "execution_count": null,
   "metadata": {
    "colab": {
     "base_uri": "https://localhost:8080/",
     "height": 394
    },
    "id": "Gb015EdKAz5G",
    "outputId": "16f90dc6-ba56-4e77-cb60-214d755cbe60"
   },
   "outputs": [],
   "source": [
    "# 변동이 20% 이상인 날들만 가져와보기\n",
    "\n",
    "df[abs(df['Change']) > 0.05]"
   ]
  },
  {
   "cell_type": "code",
   "execution_count": null,
   "metadata": {
    "colab": {
     "base_uri": "https://localhost:8080/",
     "height": 658
    },
    "id": "p1pfq2O1A6no",
    "outputId": "93b66523-f56d-4e79-830a-f5546dad3dbf"
   },
   "outputs": [],
   "source": [
    "# 주가 그래프 그려보기\n",
    "\n",
    "df = fdr.DataReader('005930','2018')\n",
    "df.plot(y=['Open','Close'],figsize=(15,8),grid=True)"
   ]
  },
  {
   "cell_type": "code",
   "execution_count": null,
   "metadata": {
    "colab": {
     "base_uri": "https://localhost:8080/",
     "height": 669
    },
    "id": "ZHCpj0hwBkt0",
    "outputId": "4fcfaf00-63c0-4c79-e6e6-76ceadc0e569"
   },
   "outputs": [],
   "source": [
    "# 두 종목의 주가 변동 그래프 그려보기\n",
    "\n",
    "df_1 = fdr.DataReader('005930','2018')\n",
    "df_2 = fdr.DataReader('066570','2018')\n",
    "\n",
    "df_tot = pd.DataFrame()\n",
    "df_tot['Samsung'] = df_1[['Change']]\n",
    "df_tot['LG'] = df_2[['Change']]\n",
    "\n",
    "df_tot.tail(100).plot(figsize=(15,8))"
   ]
  },
  {
   "cell_type": "code",
   "execution_count": null,
   "metadata": {
    "id": "9JxCfTArCY0z"
   },
   "outputs": [],
   "source": [
    "# 이동평균선을 만들고 매수, 매도 시점 확인\n",
    "\n",
    "def get_return(code,n):\n",
    "  df = fdr.DataReader(code,'2018')\n",
    "\n",
    "  df = df[['Close']].copy()\n",
    "\n",
    "  df['ma'] = df.rolling(n).mean().shift(1)\n",
    "\n",
    "  df['action'] = np.where(df['Close'] > df['ma'], 'buy', 'sell')\n",
    "\n",
    "  df.iloc[-1,-1] = 'sell'\n",
    "\n",
    "  cond1 = (df['action'] == 'buy') & (df['action'].shift(1) == 'sell')\n",
    "  cond2 = (df['action'] == 'sell') & (df['action'].shift(1) == 'buy')\n",
    "\n",
    "  df_buy = df[cond1].reset_index()\n",
    "  df_buy.columns = ['날짜','종가(buy)','이평값','액션']\n",
    "\n",
    "  df_sell = df[cond2].reset_index()\n",
    "  df_sell.columns = ['날짜','종가(sell)','이평값','액션']\n",
    "\n",
    "  df_result = pd.concat([df_buy,df_sell],axis=1)\n",
    "\n",
    "  df_result['수익률'] = df_result['종가(sell)'] / df_result['종가(buy)']\n",
    "\n",
    "  return df_result[['수익률']].cumprod().iloc[-1,-1] - 1"
   ]
  },
  {
   "cell_type": "code",
   "execution_count": null,
   "metadata": {
    "colab": {
     "base_uri": "https://localhost:8080/"
    },
    "id": "_uD0J43LEidn",
    "outputId": "6b86f470-0b74-4839-eaac-d90b4d5343a6"
   },
   "outputs": [],
   "source": [
    "get_return('005930',3)"
   ]
  },
  {
   "cell_type": "code",
   "execution_count": null,
   "metadata": {
    "id": "eiUSJfz9H3ic"
   },
   "outputs": [],
   "source": [
    "# 단기, 장기 이동평균선을 만들고 매수, 매도 시점 확인\n",
    "\n",
    "def get_return_sl(code, short, long):\n",
    "  df = fdr.DataReader(code,'2023')\n",
    "\n",
    "  df = df[['Close']].copy()\n",
    "\n",
    "  df['ma1'] = df['Close'].rolling(short).mean().shift(1)\n",
    "  df['ma2'] = df['Close'].rolling(long).mean().shift(1)\n",
    "\n",
    "  df['action'] = np.where(df['ma1'] > df['ma2'], 'buy', 'sell')\n",
    "\n",
    "  df.iloc[-1,-1] = 'sell'\n",
    "\n",
    "  cond1 = (df['action'] == 'buy') & (df['action'].shift(1) == 'sell')\n",
    "  cond2 = (df['action'] == 'sell') & (df['action'].shift(1) == 'buy')\n",
    "\n",
    "  df_buy = df[cond1].reset_index()\n",
    "  df_buy.columns = ['날짜','종가(buy)','이평값1','이평값2','액션']\n",
    "\n",
    "  df_sell = df[cond2].reset_index()\n",
    "  df_sell.columns = ['날짜','종가(sell)','이평값1','이평값2','액션']\n",
    "\n",
    "  df_result = pd.concat([df_buy,df_sell],axis=1)\n",
    "\n",
    "  df_result['수익률'] = df_result['종가(sell)'] / df_result['종가(buy)']\n",
    "\n",
    "  df_final = (df_result[['수익률']].cumprod().tail(1) - 1)*100\n",
    "  df_final['단기'] = short\n",
    "  df_final['장기'] = long\n",
    "\n",
    "  return df_final"
   ]
  },
  {
   "cell_type": "code",
   "execution_count": null,
   "metadata": {
    "colab": {
     "base_uri": "https://localhost:8080/",
     "height": 81
    },
    "id": "1tAIF-AGJLyf",
    "outputId": "6360d8cf-80a8-4dd2-9f83-716f7a50d373"
   },
   "outputs": [],
   "source": [
    "get_return_sl('005930',3,30)"
   ]
  },
  {
   "cell_type": "code",
   "execution_count": null,
   "metadata": {
    "id": "FXh2QfBxKu1p"
   },
   "outputs": [],
   "source": [
    "# 최적의 단기, 장기 이동평균선 찾기\n",
    "\n",
    "dfs = []\n",
    "for short in range(3,11):\n",
    "  for long in range(30,61):\n",
    "    df = get_return_sl('005930',short,long)\n",
    "    dfs.append(df)\n",
    "\n",
    "df_result = pd.concat(dfs)\n",
    "df_result.sort_values(by='수익률', ascending=False)"
   ]
  },
  {
   "cell_type": "code",
   "outputs": [],
   "source": [],
   "metadata": {
    "collapsed": false
   }
  }
 ],
 "metadata": {
  "colab": {
   "provenance": []
  },
  "kernelspec": {
   "name": "python3",
   "language": "python",
   "display_name": "Python 3 (ipykernel)"
  },
  "language_info": {
   "codemirror_mode": {
    "name": "ipython",
    "version": 3
   },
   "file_extension": ".py",
   "mimetype": "text/x-python",
   "name": "python",
   "nbconvert_exporter": "python",
   "pygments_lexer": "ipython3",
   "version": "3.12.1"
  }
 },
 "nbformat": 4,
 "nbformat_minor": 0
}
