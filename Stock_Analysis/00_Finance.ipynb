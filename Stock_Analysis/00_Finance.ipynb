{
 "cells": [
  {
   "cell_type": "code",
   "execution_count": null,
   "metadata": {},
   "outputs": [],
   "source": [
    "# Pandas Datareader(Colab)\n",
    "# Yahoo Finance = 주식, 환율, 암호화폐, 지수 등\n",
    "# FRED = 미국 정부에서 발표한 경제 통계자료\n",
    "# Fama-French Factor = 주식 투자 전략에 대한 자료\n",
    "# World Bank = 세계 경제, 인구 통계자료\n",
    "# OECD = OECD 회원국들의 경제 통계자료\n",
    "\n",
    "!pip install pandas_datareader\n",
    "import pandas_datareader as pdr\n",
    "\n",
    "# 야후 파이낸스에서 AAPL(애플 주식) 정보 가져오기\n",
    "df = pdr.get_data_yahoo('AAPL')\n",
    "\n",
    "# FRED에서 GDP 정보 가져오기\n",
    "df = pdr.get_data_fred('GDP')"
   ]
  },
  {
   "cell_type": "code",
   "execution_count": null,
   "metadata": {},
   "outputs": [],
   "source": [
    "# Quandl(Colab)\n",
    "# 주식 가격 정보\n",
    "# 채권 정보\n",
    "# FX 정보\n",
    "# 선물/옵션 정보\n",
    "\n",
    "!pip install quandl\n",
    "import quandl\n",
    "\n",
    "# API key 입력\n",
    "quandl.ApiConfig.api_key = \"YOUR_API_KEY\"\n",
    "\n",
    "# AAPL 종목의 일별 시세 가져오기\n",
    "df = quandl.get(\"EOD/AAPL\")\n",
    "print(df.head())"
   ]
  },
  {
   "cell_type": "code",
   "execution_count": null,
   "metadata": {},
   "outputs": [],
   "source": [
    "# PyFRED(Colab)\n",
    "# GDP\n",
    "# 인플레이션\n",
    "# 실업률\n",
    "# 환율\n",
    "# 주식시장 데이터\n",
    "# 금리 등\n",
    "\n",
    "import pandas_datareader.data as web\n",
    "import datetime\n",
    "\n",
    "import pyfred\n",
    "\n",
    "start = datetime.datetime(2021, 1, 1)\n",
    "end = datetime.datetime.now()\n",
    "\n",
    "# PyFRED 라이브러리를 사용하여 FRED 데이터 가져오기\n",
    "gdp = pyfred.get_series('GDP', start, end)\n",
    "unrate = pyfred.get_series('UNRATE', start, end)\n",
    "\n",
    "# Pandas-datareader 라이브러리를 사용하여 S&P 500 지수 가져오기\n",
    "sp500 = web.DataReader('^GSPC', 'yahoo', start, end)['Adj Close']\n",
    "\n",
    "# 데이터프레임으로 변환\n",
    "df = pd.concat([gdp, unrate, sp500], axis=1, sort=False)\n",
    "\n",
    "# 컬럼명 변경\n",
    "df.columns = ['GDP', 'Unemployment Rate', 'S&P 500']\n",
    "\n",
    "# 데이터프레임 출력\n",
    "print(df.head())"
   ]
  },
  {
   "cell_type": "code",
   "execution_count": null,
   "metadata": {},
   "outputs": [],
   "source": [
    "# investpy\n",
    "# 주가지수: 170개 이상의 국가의 2000개 이상의 주가지수 데이터\n",
    "# 주식: 170개 이상의 국가에서 120,000개 이상의 주식 데이터\n",
    "# ETF: 170개 이상의 국가에서 35,000개 이상의 ETF 데이터\n",
    "# 선물: 선진국에서 제공되는 주요 선물 데이터\n",
    "# 환율: 170개 이상의 국가에서 제공되는 환율 데이터\n",
    "# 채권: 60개 이상의 국가에서 제공되는 채권 데이터\n",
    "# 펀드: 90개 이상의 국가에서 제공되는 펀드 데이터\n",
    "\n",
    "import investpy\n",
    "\n",
    "# 시작일과 종료일 설정\n",
    "start_date = '01/01/2020'\n",
    "end_date = '31/12/2020'\n",
    "\n",
    "# investpy로 주가 정보 가져오기\n",
    "df = investpy.get_stock_historical_data(\n",
    "    stock='AAPL', \n",
    "    country='United States', \n",
    "    from_date=start_date, \n",
    "    to_date=end_date\n",
    ")\n",
    "\n",
    "# 데이터프레임 출력\n",
    "print(df)"
   ]
  }
 ],
 "metadata": {
  "kernelspec": {
   "display_name": "Python 3",
   "language": "python",
   "name": "python3"
  },
  "language_info": {
   "codemirror_mode": {
    "name": "ipython",
    "version": 3
   },
   "file_extension": ".py",
   "mimetype": "text/x-python",
   "name": "python",
   "nbconvert_exporter": "python",
   "pygments_lexer": "ipython3",
   "version": "3.12.1"
  }
 },
 "nbformat": 4,
 "nbformat_minor": 2
}
