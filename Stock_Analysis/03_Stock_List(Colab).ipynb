{
 "cells": [
  {
   "cell_type": "code",
   "execution_count": null,
   "metadata": {},
   "outputs": [],
   "source": [
    "!pip install finance-datareader"
   ]
  },
  {
   "cell_type": "code",
   "execution_count": null,
   "metadata": {},
   "outputs": [],
   "source": [
    "import FinanceDataReader as fdr"
   ]
  },
  {
   "cell_type": "code",
   "execution_count": null,
   "metadata": {},
   "outputs": [],
   "source": [
    "# S&P 500 종목 전체 리스트\n",
    "\n",
    "df_spx = fdr.StockListing('S&P500')\n",
    "df_spx"
   ]
  },
  {
   "cell_type": "code",
   "execution_count": null,
   "metadata": {},
   "outputs": [],
   "source": [
    "# 데이터프레임 길이 확인\n",
    "\n",
    "len(df_spx)"
   ]
  },
  {
   "cell_type": "code",
   "execution_count": null,
   "metadata": {},
   "outputs": [],
   "source": [
    "# KRX 종목 전체 리스트\n",
    "\n",
    "df_KRX = fdr.StockListing('KRX')\n",
    "df_KRX"
   ]
  },
  {
   "cell_type": "code",
   "execution_count": null,
   "metadata": {},
   "outputs": [],
   "source": [
    "# 데이터프레임 길이 확인\n",
    "\n",
    "len(df_KRX)"
   ]
  },
  {
   "cell_type": "code",
   "execution_count": null,
   "metadata": {},
   "outputs": [],
   "source": [
    "import FinanceDataReader as fdr\n",
    "\n",
    "# 애플(AAPL), 2017년 1월 주식\n",
    "\n",
    "df = fdr.DataReader('AAPL', '2017-01-01', '2017-02-01')\n",
    "df\n",
    "\n",
    "# df.tail() # 마지막 5개 값만 가져올 수 있습니다.\n",
    "# df.head() # 처음 5개 값만 가져올 수 있습니다."
   ]
  },
  {
   "cell_type": "code",
   "execution_count": null,
   "metadata": {},
   "outputs": [],
   "source": [
    "# 종가 데이터 시각화\n",
    "\n",
    "df['Close'].plot()"
   ]
  },
  {
   "cell_type": "code",
   "execution_count": null,
   "metadata": {},
   "outputs": [],
   "source": [
    "import pandas as pd\n",
    "\n",
    "# 비어있는 데이터프레임 만들기\n",
    "df_plot = pd.DataFrame()\n",
    "\n",
    "df_1 = fdr.DataReader('AMZN', '2017')\n",
    "df_2 = fdr.DataReader('AAPL', '2017')\n",
    "\n",
    "df_plot['AMZM'] = df_1['Close']\n",
    "df_plot['AAPL'] = df_2['Close']\n",
    "df_plot.plot()"
   ]
  }
 ],
 "metadata": {
  "kernelspec": {
   "display_name": "Python 3",
   "language": "python",
   "name": "python3"
  },
  "language_info": {
   "codemirror_mode": {
    "name": "ipython",
    "version": 3
   },
   "file_extension": ".py",
   "mimetype": "text/x-python",
   "name": "python",
   "nbconvert_exporter": "python",
   "pygments_lexer": "ipython3",
   "version": "3.12.1"
  }
 },
 "nbformat": 4,
 "nbformat_minor": 2
}
