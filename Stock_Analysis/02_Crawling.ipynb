{
 "cells": [
  {
   "cell_type": "code",
   "execution_count": null,
   "metadata": {},
   "outputs": [],
   "source": [
    "import requests\n",
    "from bs4 import BeautifulSoup\n",
    "from openpyxl import Workbook\n",
    "from datetime import datetime\n",
    "\n",
    "def get_news(keyword):\n",
    "  wb=Workbook()\n",
    "  sheet=wb.active\n",
    "\n",
    "  headers = {'User-Agent' : 'Mozilla/5.0 (Windows NT 10.0; Win64; x64)AppleWebKit/537.36 (KHTML, like Gecko) Chrome/73.0.3683.86 Safari/537.36'}\n",
    "  data = requests.get(f'https://search.naver.com/search.naver?where=news&ie=utf8&sm=nws_hty&query={keyword}',headers=headers)\n",
    "\n",
    "  soup = BeautifulSoup(data.text, 'html.parser')\n",
    "\n",
    "  # a = soup.select_one('#sp_nws1 > div.news_wrap.api_ani_send > div > div.news_contents > a.news_tit')\n",
    "  # a['href']\n",
    "  # a.text\n",
    "\n",
    "  lis = soup.select('#main_pack > section.sc_new.sp_nnews._prs_nws > div > div.group_news > ul > li')\n",
    "  #a = lis[0].select_one('a.news_tit')\n",
    "  # a['href']\n",
    "  # a.text\n",
    "\n",
    "  for li in lis:\n",
    "    a = li.select_one('a.news_tit')\n",
    "    row = [a.text,a['href']]\n",
    "    # print(a.text)\n",
    "    sheet.append(row)\n",
    "  \n",
    "  today = datetime.today().strftime(\"%Y-%m-%d\")\n",
    "\n",
    "  wb.save(f\"news/{today}_{keyword}.xlsx\")\n",
    "  wb.close()"
   ]
  },
  {
   "cell_type": "code",
   "execution_count": null,
   "metadata": {},
   "outputs": [],
   "source": [
    "keywords = ['유상증자']\n",
    "\n",
    "for keyword in keywords:\n",
    "  print(keyword)\n",
    "  get_news(keyword)"
   ]
  },
  {
   "cell_type": "code",
   "execution_count": null,
   "metadata": {},
   "outputs": [],
   "source": [
    "import os\n",
    "\n",
    "path = '../Stock_Analysis/news'\n",
    "files = os.listdir(path)\n",
    "\n",
    "for name in files:\n",
    "  new_name = name.split('.')[0]+'(뉴스).xlsx'\n",
    "  os.rename(f'../Stock_Analysis/news/{name}',f'../Stock_Analysis/news/{new_name}')"
   ]
  }
 ],
 "metadata": {
  "kernelspec": {
   "display_name": "Python 3",
   "language": "python",
   "name": "python3"
  },
  "language_info": {
   "codemirror_mode": {
    "name": "ipython",
    "version": 3
   },
   "file_extension": ".py",
   "mimetype": "text/x-python",
   "name": "python",
   "nbconvert_exporter": "python",
   "pygments_lexer": "ipython3",
   "version": "3.12.1"
  }
 },
 "nbformat": 4,
 "nbformat_minor": 2
}
