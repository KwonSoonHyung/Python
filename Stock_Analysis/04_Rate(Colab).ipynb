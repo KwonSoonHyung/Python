{
 "cells": [
  {
   "cell_type": "code",
   "execution_count": null,
   "metadata": {},
   "outputs": [],
   "source": [
    "!pip install finance-datareader"
   ]
  },
  {
   "cell_type": "code",
   "execution_count": null,
   "metadata": {},
   "outputs": [],
   "source": [
    "import FinanceDataReader as fdr\n",
    "import pandas as pd\n",
    "\n",
    "us500 = fdr.DataReader('US500', '2017')\n",
    "df = us500[['Close']]\n",
    "df.plot()"
   ]
  },
  {
   "cell_type": "code",
   "execution_count": null,
   "metadata": {},
   "outputs": [],
   "source": [
    "us500 = fdr.DataReader('US500', '2017')\n",
    "df = us500[['Close']] / 1000 - 1\n",
    "df.plot()"
   ]
  },
  {
   "cell_type": "code",
   "execution_count": null,
   "metadata": {},
   "outputs": [],
   "source": [
    "# 함수 예시 1\n",
    "\n",
    "def make_rate(code):\n",
    "  df_plot = pd.DataFrame()\n",
    "  df = fdr.DataReader(code, '2017')\n",
    "\n",
    "  original = df[['Close']].iloc[0]\n",
    "\n",
    "  df_plot['Close'] = df[['Close']]/original - 1\n",
    "  return df_plot['Close']"
   ]
  },
  {
   "cell_type": "code",
   "execution_count": null,
   "metadata": {},
   "outputs": [],
   "source": [
    "# 함수 예시 2\n",
    "\n",
    "def make_rate(code):\n",
    "  df = fdr.DataReader(code, '2017')\n",
    "  return df[['Close']]/df[['Close']].iloc[0] - 1"
   ]
  },
  {
   "cell_type": "code",
   "execution_count": null,
   "metadata": {},
   "outputs": [],
   "source": [
    "df_plot = pd.DataFrame()\n",
    "df_plot['GOOG'] = make_rate('GOOG')\n",
    "df_plot.plot()"
   ]
  },
  {
   "cell_type": "code",
   "execution_count": null,
   "metadata": {},
   "outputs": [],
   "source": [
    "# 수익률 비교로 주가방어 시각화\n",
    "\n",
    "df_plot = pd.DataFrame()\n",
    "df_plot['GOOG'] = make_rate('GOOG')\n",
    "df_plot['META'] = make_rate('META')\n",
    "df_plot['US500'] = make_rate('US500')\n",
    "df_plot.plot()"
   ]
  }
 ],
 "metadata": {
  "kernelspec": {
   "display_name": "Python 3",
   "language": "python",
   "name": "python3"
  },
  "language_info": {
   "codemirror_mode": {
    "name": "ipython",
    "version": 3
   },
   "file_extension": ".py",
   "mimetype": "text/x-python",
   "name": "python",
   "nbconvert_exporter": "python",
   "pygments_lexer": "ipython3",
   "version": "3.12.1"
  }
 },
 "nbformat": 4,
 "nbformat_minor": 2
}
