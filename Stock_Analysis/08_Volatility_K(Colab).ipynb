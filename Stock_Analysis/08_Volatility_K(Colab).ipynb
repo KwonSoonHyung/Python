{
 "cells": [
  {
   "cell_type": "code",
   "execution_count": null,
   "metadata": {
    "colab": {
     "base_uri": "https://localhost:8080/"
    },
    "id": "sNBZErPTQ79H",
    "outputId": "76fe4c88-f9ad-498a-ffaf-fe9f20b404ea"
   },
   "outputs": [],
   "source": [
    "!pip install yfinance\n",
    "!pip install pandas-datareader\n",
    "!pip install finance-datareader"
   ]
  },
  {
   "cell_type": "code",
   "execution_count": null,
   "metadata": {
    "colab": {
     "base_uri": "https://localhost:8080/",
     "height": 237
    },
    "id": "dKAzVqe_QxNU",
    "outputId": "00c54b3d-3cb6-45ef-dcea-2e6de06bd791"
   },
   "outputs": [],
   "source": [
    "from pandas_datareader import data as pdr\n",
    "\n",
    "import yfinance as yf\n",
    "yf.pdr_override()\n",
    "\n",
    "import numpy as np\n",
    "import pandas as pd\n",
    "\n",
    "import FinanceDataReader as fdr\n",
    "\n",
    "df = fdr.DataReader('005930','2018')\n",
    "\n",
    "df.head()"
   ]
  },
  {
   "cell_type": "code",
   "execution_count": null,
   "metadata": {
    "id": "BwBaHJd7ReNR"
   },
   "outputs": [],
   "source": [
    "# 최적의 K 구하기 함수화\n",
    "\n",
    "def get_return(code,k):\n",
    "  df = fdr.DataReader(code,'2018')\n",
    "\n",
    "  df['buy_at'] = (df['High'].shift(1) - df['Low'].shift(1))*k + df['Open']\n",
    "\n",
    "  df['is_buy'] = np.where(df['buy_at'] < df['High'],'buy','')\n",
    "\n",
    "  df['sell_at'] = df['Open'].shift(-1)\n",
    "\n",
    "  df = df[df['is_buy'] == 'buy']\n",
    "\n",
    "  df = df[['buy_at','sell_at']]\n",
    "\n",
    "  df['return'] = df['sell_at']/df['buy_at']\n",
    "\n",
    "  return df[['return']].cumprod().iloc[-1,-1] -1"
   ]
  },
  {
   "cell_type": "code",
   "execution_count": null,
   "metadata": {
    "colab": {
     "base_uri": "https://localhost:8080/"
    },
    "id": "037gx0kiTw0-",
    "outputId": "41c05479-5a05-48ec-e00d-123850bc2b6d"
   },
   "outputs": [],
   "source": [
    "get_return('005930',0.4)"
   ]
  },
  {
   "cell_type": "code",
   "execution_count": null,
   "metadata": {
    "colab": {
     "base_uri": "https://localhost:8080/",
     "height": 1296
    },
    "id": "msSqrEdBTw_Y",
    "outputId": "ee9a62b9-a4cc-4e51-f803-9210f0db4eab"
   },
   "outputs": [],
   "source": [
    "# 최적의 K값 찾기\n",
    "\n",
    "df = pd.DataFrame()\n",
    "for k in np.arange(0.4,0.6,0.01):\n",
    "  doc = {\n",
    "      'k':k,\n",
    "      'return':get_return('005930',k)\n",
    "  }\n",
    "  df = df.append(doc,ignore_index=True)\n",
    "\n",
    "df.sort_values(by='return',ascending=False)"
   ]
  },
  {
   "cell_type": "code",
   "outputs": [],
   "source": [],
   "metadata": {
    "collapsed": false
   }
  }
 ],
 "metadata": {
  "colab": {
   "provenance": []
  },
  "kernelspec": {
   "display_name": "Python 3 (ipykernel)",
   "language": "python",
   "name": "python3"
  },
  "language_info": {
   "name": "python"
  }
 },
 "nbformat": 4,
 "nbformat_minor": 0
}
