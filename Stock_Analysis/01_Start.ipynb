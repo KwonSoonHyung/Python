{
 "cells": [
  {
   "cell_type": "code",
   "execution_count": null,
   "metadata": {},
   "outputs": [],
   "source": [
    "print('hello world')"
   ]
  },
  {
   "cell_type": "code",
   "execution_count": null,
   "metadata": {},
   "outputs": [],
   "source": [
    "a = '대한'\n",
    "b = '민국'\n",
    "\n",
    "print(a+b)"
   ]
  },
  {
   "cell_type": "code",
   "execution_count": null,
   "metadata": {},
   "outputs": [],
   "source": [
    "# 자료형 - 컨테이너 타입 = list\n",
    "\n",
    "a_list = ['apple', 'lemon', 'banana']\n",
    "a_list.append('딸기')\n",
    "a_list[0]"
   ]
  },
  {
   "cell_type": "code",
   "execution_count": null,
   "metadata": {},
   "outputs": [],
   "source": [
    "# dict + list 결합\n",
    "\n",
    "a_dict = {'name':'철수','age':15}\n",
    "a_list = [{'name':'철수','age':15},{'name':'영희','age':25}]\n",
    "a_list[1]['name']"
   ]
  },
  {
   "cell_type": "code",
   "execution_count": null,
   "metadata": {},
   "outputs": [],
   "source": [
    "def sum(a,b):\n",
    "  print('hello world')\n",
    "  return a+b\n",
    "\n",
    "result = sum(2,3)\n",
    "\n",
    "result"
   ]
  },
  {
   "cell_type": "code",
   "execution_count": null,
   "metadata": {},
   "outputs": [],
   "source": [
    "age = 25\n",
    "\n",
    "def is_adult(age):\n",
    "  if age > 20:\n",
    "    print('성인')\n",
    "  else:\n",
    "    print('청소년')\n",
    "\n",
    "is_adult(30)\n",
    "is_adult(25)\n",
    "is_adult(15)"
   ]
  },
  {
   "cell_type": "code",
   "execution_count": null,
   "metadata": {},
   "outputs": [],
   "source": [
    "a_list = ['사과','배','감','귤']\n",
    "\n",
    "for a in a_list:\n",
    "  print(a)"
   ]
  },
  {
   "cell_type": "code",
   "execution_count": null,
   "metadata": {},
   "outputs": [],
   "source": [
    "ages = [15,25,30,8,13]\n",
    "\n",
    "for age in ages:\n",
    "  is_adult(age)"
   ]
  }
 ],
 "metadata": {
  "kernelspec": {
   "display_name": "Python 3",
   "language": "python",
   "name": "python3"
  },
  "language_info": {
   "codemirror_mode": {
    "name": "ipython",
    "version": 3
   },
   "file_extension": ".py",
   "mimetype": "text/x-python",
   "name": "python",
   "nbconvert_exporter": "python",
   "pygments_lexer": "ipython3",
   "version": "3.12.1"
  }
 },
 "nbformat": 4,
 "nbformat_minor": 2
}
