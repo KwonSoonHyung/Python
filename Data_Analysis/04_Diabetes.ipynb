{
 "cells": [
  {
   "cell_type": "markdown",
   "metadata": {},
   "source": [
    "#### 데이터 분석 (상관관계 분석)\n",
    "\n",
    "- 문제 정의 = 당뇨병 발생 원인이 무엇인가?\n",
    "- 가설 설정 = 당뇨병 발생요인의 가장 큰 요소는 글루코스(혈당) 수치\n",
    "- 데이터 분석 기본 세팅\n",
    "- 데이터 분석\n",
    "- 분석 결과 시각화\n",
    "- 최종 결론 = 당뇨병 발병에 가장 큰 영향을 미치는 요소는 Glucose\n",
    "\n",
    "#### 좋은 가설이란?\n",
    "\n",
    "- 풀고자 하는 문제의 방향성과 일치하는 가설 → 무슨 문제를 풀고자 하는지 명확히 알 것\n",
    "- 테스트 가능한 가설 → 데이터로 확인이 가능한 가설을 세울 것\n",
    "- 액션으로 이어질 수 있는 가설 → 가설 검증 후 결과에 따라 특정 액션으로 유도될 수 있을 것"
   ]
  },
  {
   "cell_type": "code",
   "execution_count": null,
   "metadata": {},
   "outputs": [],
   "source": [
    "# Pandas 라이브러리 불러오기\n",
    "\n",
    "import pandas as pd\n",
    "\n",
    "# 피마 인디언 당뇨병 파일 불러오기\n",
    "\n",
    "diabetes = pd.read_table('../Data/diabetes.csv',sep=',')\n",
    "diabetes.head()"
   ]
  },
  {
   "cell_type": "code",
   "execution_count": null,
   "metadata": {},
   "outputs": [],
   "source": [
    "# 데이터가 null인 데이터 출력하기\n",
    "\n",
    "print(diabetes.isnull().sum())"
   ]
  },
  {
   "cell_type": "code",
   "execution_count": null,
   "metadata": {},
   "outputs": [],
   "source": [
    "# 데이터가 null인 데이터 제거 하기\n",
    "\n",
    "diabetes = diabetes.dropna()\n",
    "diabetes"
   ]
  },
  {
   "cell_type": "code",
   "execution_count": null,
   "metadata": {},
   "outputs": [],
   "source": [
    "# 상관관계 분석하기\n",
    "\n",
    "corr = diabetes.corr(method='pearson')\n",
    "corr"
   ]
  },
  {
   "cell_type": "code",
   "execution_count": null,
   "metadata": {},
   "outputs": [],
   "source": [
    "# Outcome 상관관계 계수가 1인 요소 제외하고 출력하기\n",
    "\n",
    "orr = corr[corr.Outcome !=1]\n",
    "corr"
   ]
  },
  {
   "cell_type": "code",
   "execution_count": null,
   "metadata": {},
   "outputs": [],
   "source": [
    "# matplotlib 라이브러리 불러오기\n",
    "\n",
    "import matplotlib.pyplot as plt\n",
    "\n",
    "# matplotlib으로 시각화 하기\n",
    "\n",
    "corr['Outcome'].plot()"
   ]
  },
  {
   "cell_type": "code",
   "execution_count": null,
   "metadata": {},
   "outputs": [],
   "source": [
    "# 바 그래프로 변경하기\n",
    "\n",
    "corr['Outcome'].plot.bar()"
   ]
  }
 ],
 "metadata": {
  "kernelspec": {
   "display_name": "Python 3",
   "language": "python",
   "name": "python3"
  },
  "language_info": {
   "codemirror_mode": {
    "name": "ipython",
    "version": 3
   },
   "file_extension": ".py",
   "mimetype": "text/x-python",
   "name": "python",
   "nbconvert_exporter": "python",
   "pygments_lexer": "ipython3",
   "version": "3.12.1"
  }
 },
 "nbformat": 4,
 "nbformat_minor": 2
}
