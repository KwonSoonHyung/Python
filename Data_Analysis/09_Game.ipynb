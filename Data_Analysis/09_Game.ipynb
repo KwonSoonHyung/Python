{
 "cells": [
  {
   "cell_type": "markdown",
   "metadata": {},
   "source": [
    "#### 데이터 분석\n",
    "\n",
    "- 문제 정의 = 게임개발 종합반이 다른 패키지에 포함되어 있는 강의들보다 구매 전환율이 저조한 상황\n",
    "- 가설 설정\n",
    "    - 게임개발 종합반을 수강한 사람은스파르타 코딩클럽에서 가장 인기 있는 웹개발 종합반을 가장 많이 신청 했을 것이다\n",
    "    - 위 2과목을 패키지를 구성하는 것이 게임개발 종합반의 구매 전환율을 가장 높일 수 있을 것이다\n",
    "- 데이터 분석 기본 세팅\n",
    "- 데이터 분석\n",
    "- 분석 결과 시각화\n",
    "- 최종 결론\n",
    "    - 게임 종합반에 가장 관심이 많았던 고객은, 앱개발 종합반 수강생 이었습니다.\n",
    "    - 새로운 가설 수립을 위해 왜 앱개발 종합반 수강생이 게임 종합반에 관심을 가졌는지에 대한 분석이 필요해 보입니다-! 🙂\n",
    "\n",
    "#### 좋은 가설이란?\n",
    "\n",
    "- 풀고자 하는 문제의 방향성과 일치하는 가설 → 무슨 문제를 풀고자 하는지 명확히 알 것\n",
    "- 테스트 가능한 가설 → 데이터로 확인이 가능한 가설을 세울 것\n",
    "- 액션으로 이어질 수 있는 가설 → 가설 검증 후 결과에 따라 특정 액션으로 유도될 수 있을 것"
   ]
  },
  {
   "cell_type": "code",
   "execution_count": null,
   "metadata": {},
   "outputs": [],
   "source": [
    "# Pandas 라이브러리 불러오기\n",
    "\n",
    "import pandas as pd\n",
    "\n",
    "# 수강생 수강 파일 불러오기\n",
    "\n",
    "sparta_data = pd.read_table('../Data/user_registered_class.csv',sep=',')\n",
    "sparta_data.head()"
   ]
  },
  {
   "cell_type": "code",
   "execution_count": null,
   "metadata": {},
   "outputs": [],
   "source": [
    "# 시각화 라이브러리 불러오기\n",
    "\n",
    "import matplotlib.pyplot as plt\n",
    "import numpy as np\n",
    "\n",
    "# 글씨 깨짐방지\n",
    "\n",
    "!sudo apt-get install -y fonts-nanum\n",
    "!sudo fc-cache -fv\n",
    "!rm ~/.cache/matplotlib -rf\n",
    "\n",
    "# 폰트 설정\n",
    "\n",
    "plt.rc('font', family='Malgun Gothic')"
   ]
  },
  {
   "cell_type": "code",
   "execution_count": null,
   "metadata": {},
   "outputs": [],
   "source": [
    "# 각 강의의 신청자 총합 구하기\n",
    "# sparta_data에서 컬럼의 값인 1인 갯수의 합\n",
    "\n",
    "sum_of_students_by_class = sparta_data[sparta_data==1].count()\n",
    "sum_of_students_by_class"
   ]
  },
  {
   "cell_type": "code",
   "execution_count": null,
   "metadata": {},
   "outputs": [],
   "source": [
    "# user_id 삭제\n",
    "\n",
    "sum_of_students_by_class = sum_of_students_by_class.drop('user_id')\n",
    "sum_of_students_by_class"
   ]
  },
  {
   "cell_type": "code",
   "execution_count": null,
   "metadata": {},
   "outputs": [],
   "source": [
    "# 그래프로 시각화 하기\n",
    "# 그래프 사이즈 설정\n",
    "\n",
    "plt.figure(figsize=(10,5))\n",
    "\n",
    "# 각각 어떤 값이 들어가야 하는지 입력해 볼까요?\n",
    "# plt.bar(X축값, Y축값)\n",
    "\n",
    "plt.bar(sum_of_students_by_class.index ,sum_of_students_by_class)\n",
    "\n",
    "# 그래프 타이틀\n",
    "\n",
    "plt.title('게임개발 종합반 신청한 학생 수강이력')\n",
    "\n",
    "# x축 레이블\n",
    "\n",
    "plt.xlabel('강의')\n",
    "\n",
    "# y축 레이블\n",
    "\n",
    "plt.ylabel('수강생(명)')\n",
    "\n",
    "# 그래프 보여주기\n",
    "\n",
    "plt.show()"
   ]
  }
 ],
 "metadata": {
  "kernelspec": {
   "display_name": "Python 3",
   "language": "python",
   "name": "python3"
  },
  "language_info": {
   "codemirror_mode": {
    "name": "ipython",
    "version": 3
   },
   "file_extension": ".py",
   "mimetype": "text/x-python",
   "name": "python",
   "nbconvert_exporter": "python",
   "pygments_lexer": "ipython3",
   "version": "3.12.1"
  }
 },
 "nbformat": 4,
 "nbformat_minor": 2
}
