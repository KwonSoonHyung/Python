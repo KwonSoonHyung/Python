{
 "cells": [
  {
   "cell_type": "markdown",
   "metadata": {},
   "source": [
    "#### 데이터 분석\n",
    "\n",
    "- 문제 정의 = 왜 앱개발 종합반 신청자가 게임종합반에 관심이 많은 것인지 확인해보아야겠네요!\n",
    "- 가설 설정\n",
    "    - 앱 종합반과 게임 종합반 신청자의 공통 관심사는 중 가장 큰 비율을 차지하는 것은 부수입 창출일 것이다\n",
    "    - 둘 다 부수입을 창출할 수 있는 주제이니 애초에 부수입에 관심이 있는 인원이 수강신청 했을 듯 합니다\n",
    "- 데이터 분석 기본 세팅\n",
    "- 데이터 분석\n",
    "- 분석 결과 시각화\n",
    "- 최종 결론\n",
    "    - 예상과 같이 앱 개발, 그리고 게임 종합반 신청자의 공통 관심사는 부수입 창출이었습니다.\n",
    "    - 따라서, 판매 증대를 위해, 앱 종합반과 게임 종합반을 묶어서 부수입 강의세트를 출시하고 부수입 창출을 메인 키워드로 내세워 홍보 효과를 증대 시킬수 있을 것 같습니다\n",
    "\n",
    "#### 좋은 가설이란?\n",
    "\n",
    "- 풀고자 하는 문제의 방향성과 일치하는 가설 → 무슨 문제를 풀고자 하는지 명확히 알 것\n",
    "- 테스트 가능한 가설 → 데이터로 확인이 가능한 가설을 세울 것\n",
    "- 액션으로 이어질 수 있는 가설 → 가설 검증 후 결과에 따라 특정 액션으로 유도될 수 있을 것"
   ]
  },
  {
   "cell_type": "code",
   "execution_count": null,
   "metadata": {},
   "outputs": [],
   "source": [
    "# Pandas 라이브러리 불러오기\n",
    "\n",
    "import pandas as pd\n",
    "\n",
    "# 수강생 수강 파일 불러오기\n",
    "\n",
    "sparta_data_app = pd.read_table('../Data/user_db_app.csv',sep=',')\n",
    "sparta_data_app.head()"
   ]
  },
  {
   "cell_type": "code",
   "execution_count": null,
   "metadata": {},
   "outputs": [],
   "source": [
    "# 수강 데이터 가지고 오기\n",
    "\n",
    "sparta_data_game = pd.read_table('../Data/user_db_game.csv',sep=',')\n",
    "sparta_data_game.head()"
   ]
  },
  {
   "cell_type": "code",
   "execution_count": null,
   "metadata": {},
   "outputs": [],
   "source": [
    "# 시각화 라이브러리 불러오기\n",
    "\n",
    "import matplotlib.pyplot as plt\n",
    "import numpy as np\n",
    "\n",
    "# 글씨 깨짐방지\n",
    "\n",
    "!sudo apt-get install -y fonts-nanum\n",
    "!sudo fc-cache -fv\n",
    "!rm ~/.cache/matplotlib -rf\n",
    "\n",
    "# 폰트 설정\n",
    "\n",
    "plt.rc('font', family='Malgun Gothic')"
   ]
  },
  {
   "cell_type": "code",
   "execution_count": null,
   "metadata": {},
   "outputs": [],
   "source": [
    "# 수업 신청 목표 기준으로 수강생 수 합계\n",
    "\n",
    "app_users_goal=sparta_data_app.groupby('goal')['user_id'].count()\n",
    "app_users_goal"
   ]
  },
  {
   "cell_type": "code",
   "execution_count": null,
   "metadata": {},
   "outputs": [],
   "source": [
    "# 수업 신청 목표 기준으로 수강생 수 합계\n",
    "\n",
    "game_users_goal=sparta_data_game.groupby('goal')['user_id'].count()\n",
    "game_users_goal"
   ]
  },
  {
   "cell_type": "code",
   "execution_count": null,
   "metadata": {},
   "outputs": [],
   "source": [
    "# 바 그래프 그리기\n",
    "# 그래프 크기 설정 (인치)\n",
    "\n",
    "plt.figure(figsize=(8,6))\n",
    "\n",
    "# x축 y축 설정을 동일하게 해주고, color와, label을 추가 해주시면 됩니다. 참 쉽죠?\n",
    "\n",
    "# app 종합반 수강생 관심 분야 \n",
    "\n",
    "plt.plot(app_users_goal.index ,app_users_goal,color=\"red\", label=\"app\")\n",
    "\n",
    "# game 종합반 수강생 관심 분야\n",
    "\n",
    "plt.plot(game_users_goal.index,game_users_goal,color=\"blue\", label=\"game\")\n",
    "\n",
    "\n",
    "# 각 그래프의 범례는 .legend()을 이용하여 만들어 줍니다! :)\n",
    "\n",
    "plt.legend()\n",
    "\n",
    "# 그래프 타이틀\n",
    "\n",
    "plt.title(\"앱 종합반, 게임 종합반 수강생의 관심사\")\n",
    "\n",
    "# x축 레이블\n",
    "\n",
    "plt.xlabel('수강 목적')\n",
    "\n",
    "# y축 레이블\n",
    "\n",
    "plt.ylabel('수강생 수')\n",
    "\n",
    "# 그래프 보여주기\n",
    "\n",
    "plt.show()"
   ]
  }
 ],
 "metadata": {
  "kernelspec": {
   "display_name": "Python 3",
   "language": "python",
   "name": "python3"
  },
  "language_info": {
   "codemirror_mode": {
    "name": "ipython",
    "version": 3
   },
   "file_extension": ".py",
   "mimetype": "text/x-python",
   "name": "python",
   "nbconvert_exporter": "python",
   "pygments_lexer": "ipython3",
   "version": "3.12.1"
  }
 },
 "nbformat": 4,
 "nbformat_minor": 2
}
