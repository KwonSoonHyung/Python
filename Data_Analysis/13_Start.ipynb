{
 "cells": [
  {
   "cell_type": "markdown",
   "metadata": {},
   "source": [
    "#### 데이터 분석\n",
    "\n",
    "- 문제 정의 = 완주율이 떨어진 이유를 찾아보자\n",
    "- 가설 설정 = 찐한관리를 받은 인원이 받지 않은 인원보다 완주율이 높을 것이다.\n",
    "- 데이터 분석 기본 세팅\n",
    "- 데이터 분석 = 찐한관리를 하는 집단과 하지 않는 집단을 나누어 완주율을 비교해볼 수 있습니다.\n",
    "- 분석 결과 시각화\n",
    "- 최종 결론\n",
    "    - 찐한 관리를 받지 않은 그룹의 수강 완주율은 38.6%\n",
    "    - 찐한 관리를 받은 그룹의 수강 완주율은 68.5 %\n",
    "    - 찐한관리를 받은 그룹의 완주율이 월등히 높은 것을 확인할 수 있었습니다.\n",
    "    - 실제로 찐한관리 신청 비율을 높이는 액션을 진행해보는 것이 완주율 개선에 효과적일 것 같습니다!\n",
    "    - 수업 시작 전, 찐한관리 참여를 적극적으로 유도해보아도 좋을 것 같네요-!\n",
    "    - 찐한관리를 받는 인원의 완주율이 높을 경우 = 찐한관리 신청 비율 높이기\n",
    "    - 찐한관리를 받지 않는 인원의 완주율이 높을 경우 = 다른 동기부여 방법 고안하기\n",
    "    \n",
    "#### 좋은 가설이란?\n",
    "\n",
    "- 풀고자 하는 문제의 방향성과 일치하는 가설 → 무슨 문제를 풀고자 하는지 명확히 알 것\n",
    "- 테스트 가능한 가설 → 데이터로 확인이 가능한 가설을 세울 것\n",
    "- 액션으로 이어질 수 있는 가설 → 가설 검증 후 결과에 따라 특정 액션으로 유도될 수 있을 것"
   ]
  },
  {
   "cell_type": "code",
   "execution_count": null,
   "metadata": {},
   "outputs": [],
   "source": [
    "# Pandas 라이브러리 불러오기\n",
    "\n",
    "import pandas as pd\n",
    "\n",
    "# 수강생 수강 파일 불러오기\n",
    "\n",
    "sparta_data = pd.read_table('../Data/sprata_data.csv',sep=',')\n",
    "sparta_data.head()"
   ]
  },
  {
   "cell_type": "code",
   "execution_count": null,
   "metadata": {},
   "outputs": [],
   "source": [
    "# 시각화 라이브러리 불러오기\n",
    "\n",
    "import matplotlib.pyplot as plt\n",
    "import numpy as np\n",
    "\n",
    "# 글씨 깨짐방지\n",
    "\n",
    "!sudo apt-get install -y fonts-nanum\n",
    "!sudo fc-cache -fv\n",
    "!rm ~/.cache/matplotlib -rf\n",
    "\n",
    "# 폰트 설정\n",
    "\n",
    "plt.rc('font', family='Malgun Gothic')"
   ]
  },
  {
   "cell_type": "code",
   "execution_count": null,
   "metadata": {},
   "outputs": [],
   "source": [
    "# 데이터 전처리\n",
    "# 찐한관리의 유무로 분류한 각 그룹의 수강생 수 전처리 하기\n",
    "\n",
    "managed = ['TRUE','FALSE']\n",
    "managed"
   ]
  },
  {
   "cell_type": "code",
   "execution_count": null,
   "metadata": {},
   "outputs": [],
   "source": [
    "# 찐한관리를 하면 완주율이 높아질까? 분석 및 시각화\n",
    "# 찐한관리의 유무에 따라 수강 완료율 평균 구하기\n",
    "\n",
    "managed_data_avg = sparta_data.groupby('managed')['progress_rate'].sum()/sparta_data.groupby('managed')['_id'].count()\n",
    "managed_data_avg"
   ]
  },
  {
   "cell_type": "code",
   "execution_count": null,
   "metadata": {},
   "outputs": [],
   "source": [
    "# 바 그래프 그리기\n",
    "# plt.figure(width, height) : 넓이와 높이 만큼 이미지를 생성한다는 것을 말해줍니다!\n",
    "\n",
    "plt.figure(figsize=(6,6))\n",
    "\n",
    "# 각각 어떤 값이 들어가야 하는지 입력해 볼까요?\n",
    "# plt.bar(X축값, Y축값)\n",
    "\n",
    "plt.bar(managed_data_avg.index,managed_data_avg)\n",
    "\n",
    "# 그래프의 바에 각 수치율을 추가 해 볼까요?\n",
    "\n",
    "bar = plt.bar(managed_data_avg.index,managed_data_avg)\n",
    "for rect in bar:\n",
    "    height = rect.get_height()\n",
    "    plt.text(rect.get_x() + rect.get_width()/2.0, height, '%.1f' % height, ha='center', va='bottom', size = 12)\n",
    "\n",
    "# 그래프의 제목\n",
    "\n",
    "plt.title('찐한관리 유무에 따른 평균 완주율',fontsize=14)\n",
    "\n",
    "# 그래프의 x축 라벨 이름\n",
    "\n",
    "plt.xlabel('평균 완주율',fontsize=12)\n",
    "\n",
    "# x축 눈금 레이블 지정하기\n",
    "# 기존의 0,1이라는 x축 레이블을, labels =[\"...\"]로 변경 가능 합니다 :)\n",
    "\n",
    "plt.xticks([0,1], labels=[\"찐한관리 비 신청자\",\"찐한관리 신청자\"])\n",
    "\n",
    "# 그래프의 y축 라벨 이름\n",
    "\n",
    "plt.ylabel('찐한관리 여부',fontsize=12,rotation=360,labelpad=35)\n",
    "\n",
    "# x축 눈금의 글씨를 45도 회전\n",
    "\n",
    "plt.xticks(rotation=45)\n",
    "\n",
    "# y축 눈금의 글씨를 360도 회전\n",
    "\n",
    "plt.yticks(rotation=360)\n",
    "\n",
    "# 그래프를 화면에 나타나도록 합니다.\n",
    "\n",
    "plt.show()"
   ]
  }
 ],
 "metadata": {
  "kernelspec": {
   "display_name": "Python 3",
   "language": "python",
   "name": "python3"
  },
  "language_info": {
   "codemirror_mode": {
    "name": "ipython",
    "version": 3
   },
   "file_extension": ".py",
   "mimetype": "text/x-python",
   "name": "python",
   "nbconvert_exporter": "python",
   "pygments_lexer": "ipython3",
   "version": "3.12.1"
  }
 },
 "nbformat": 4,
 "nbformat_minor": 2
}
