{
 "cells": [
  {
   "cell_type": "markdown",
   "metadata": {},
   "source": [
    "#### 데이터 분석\n",
    "\n",
    "- 문제 정의 = 마지막 결제 페이지에서 고객 이탈율이 높은 상황(오류는 없음)\n",
    "- 가설 설정\n",
    "    - 결제 마지막 페이지에 할인 쿠폰을 제공하여 구매 결정에 걸림돌을 제거해준다면 결제율을 높일 수 있을 것이다.\n",
    "- 데이터 분석 기본 세팅\n",
    "- 데이터 분석\n",
    "    - 같은 기간동안 선착순으로 결제 페이지에 접속한 각 12000명을 대상으로 그릅을 나누어 할인 혜택이 실제 결제율에 얼마나 영향을 주는지 알아 봅시다.\n",
    "    - 첫번째 그룹 마지막 페이지 결제 접속자 에게 마지막 결제 페이지에 할인 쿠폰을 제공\n",
    "    - 두번째 그룹 마지막 페이지 결제 접속자 에게 할인 쿠폰 미 제공(정가 구매 유도)\n",
    "- 분석 결과 시각화\n",
    "- 최종 결론\n",
    "    - 문제 해결을 위한 세웠던 가설과 동일하게 할인 적용 신청 그룹의 신청율이 46% 대 20%로 정가 구입 그룹 보다 월등히 높은 것을 확인할 수 있습니다.\n",
    "    - 따라서, 고객의 구매 장벽을 낮추기 위해 마지막 페이지에 적절한 할인을 제시하는 것이 신규 수강생 모집에 효과적으로 보입니다.\n",
    "\n",
    "#### 좋은 가설이란?\n",
    "\n",
    "- 풀고자 하는 문제의 방향성과 일치하는 가설 → 무슨 문제를 풀고자 하는지 명확히 알 것\n",
    "- 테스트 가능한 가설 → 데이터로 확인이 가능한 가설을 세울 것\n",
    "- 액션으로 이어질 수 있는 가설 → 가설 검증 후 결과에 따라 특정 액션으로 유도될 수 있을 것"
   ]
  },
  {
   "cell_type": "code",
   "execution_count": 3,
   "metadata": {},
   "outputs": [
    {
     "data": {
      "text/html": [
       "<div>\n",
       "<style scoped>\n",
       "    .dataframe tbody tr th:only-of-type {\n",
       "        vertical-align: middle;\n",
       "    }\n",
       "\n",
       "    .dataframe tbody tr th {\n",
       "        vertical-align: top;\n",
       "    }\n",
       "\n",
       "    .dataframe thead th {\n",
       "        text-align: right;\n",
       "    }\n",
       "</style>\n",
       "<table border=\"1\" class=\"dataframe\">\n",
       "  <thead>\n",
       "    <tr style=\"text-align: right;\">\n",
       "      <th></th>\n",
       "      <th>user_id</th>\n",
       "      <th>gender</th>\n",
       "      <th>area</th>\n",
       "      <th>age</th>\n",
       "      <th>access_media</th>\n",
       "      <th>group</th>\n",
       "      <th>discounted</th>\n",
       "    </tr>\n",
       "  </thead>\n",
       "  <tbody>\n",
       "    <tr>\n",
       "      <th>0</th>\n",
       "      <td>78ff837c7cea9f33</td>\n",
       "      <td>남</td>\n",
       "      <td>송파구</td>\n",
       "      <td>20</td>\n",
       "      <td>인스타그램</td>\n",
       "      <td>1</td>\n",
       "      <td>10000.0</td>\n",
       "    </tr>\n",
       "    <tr>\n",
       "      <th>1</th>\n",
       "      <td>2987aa87d23c9e3d</td>\n",
       "      <td>남</td>\n",
       "      <td>강서구</td>\n",
       "      <td>30</td>\n",
       "      <td>검색</td>\n",
       "      <td>1</td>\n",
       "      <td>30000.0</td>\n",
       "    </tr>\n",
       "    <tr>\n",
       "      <th>2</th>\n",
       "      <td>23182525e9996864</td>\n",
       "      <td>남</td>\n",
       "      <td>도봉구</td>\n",
       "      <td>20</td>\n",
       "      <td>인스타그램</td>\n",
       "      <td>1</td>\n",
       "      <td>20000.0</td>\n",
       "    </tr>\n",
       "    <tr>\n",
       "      <th>3</th>\n",
       "      <td>ffb6913842d617a5</td>\n",
       "      <td>여</td>\n",
       "      <td>용산구</td>\n",
       "      <td>20</td>\n",
       "      <td>인스타그램</td>\n",
       "      <td>1</td>\n",
       "      <td>20000.0</td>\n",
       "    </tr>\n",
       "    <tr>\n",
       "      <th>4</th>\n",
       "      <td>2c6822e7e833dc95</td>\n",
       "      <td>여</td>\n",
       "      <td>은평구</td>\n",
       "      <td>30</td>\n",
       "      <td>네이버</td>\n",
       "      <td>1</td>\n",
       "      <td>30000.0</td>\n",
       "    </tr>\n",
       "  </tbody>\n",
       "</table>\n",
       "</div>"
      ],
      "text/plain": [
       "            user_id gender area  age access_media  group  discounted\n",
       "0  78ff837c7cea9f33      남  송파구   20        인스타그램      1     10000.0\n",
       "1  2987aa87d23c9e3d      남  강서구   30           검색      1     30000.0\n",
       "2  23182525e9996864      남  도봉구   20        인스타그램      1     20000.0\n",
       "3  ffb6913842d617a5      여  용산구   20        인스타그램      1     20000.0\n",
       "4  2c6822e7e833dc95      여  은평구   30          네이버      1     30000.0"
      ]
     },
     "execution_count": 3,
     "metadata": {},
     "output_type": "execute_result"
    }
   ],
   "source": [
    "# Pandas 라이브러리 불러오기\n",
    "\n",
    "import pandas as pd\n",
    "\n",
    "# 수강생 수강 파일 불러오기\n",
    "\n",
    "sparta_data = pd.read_table('../Data/user_db1.csv',sep=',')\n",
    "sparta_data.head()"
   ]
  },
  {
   "cell_type": "code",
   "execution_count": 4,
   "metadata": {},
   "outputs": [
    {
     "name": "stderr",
     "output_type": "stream",
     "text": [
      "'sudo'��(��) ���� �Ǵ� �ܺ� ����, ������ �� �ִ� ���α׷�, �Ǵ�\n",
      "��ġ ������ �ƴմϴ�.\n",
      "'sudo'��(��) ���� �Ǵ� �ܺ� ����, ������ �� �ִ� ���α׷�, �Ǵ�\n",
      "��ġ ������ �ƴմϴ�.\n",
      "'rm'��(��) ���� �Ǵ� �ܺ� ����, ������ �� �ִ� ���α׷�, �Ǵ�\n",
      "��ġ ������ �ƴմϴ�.\n"
     ]
    }
   ],
   "source": [
    "# 시각화 라이브러리 불러오기\n",
    "\n",
    "import matplotlib.pyplot as plt\n",
    "import numpy as np\n",
    "\n",
    "# 글씨 깨짐방지\n",
    "\n",
    "!sudo apt-get install -y fonts-nanum\n",
    "!sudo fc-cache -fv\n",
    "!rm ~/.cache/matplotlib -rf\n",
    "\n",
    "# 폰트 설정\n",
    "\n",
    "plt.rc('font', family='Malgun Gothic')"
   ]
  },
  {
   "cell_type": "code",
   "execution_count": 5,
   "metadata": {},
   "outputs": [
    {
     "data": {
      "text/plain": [
       "5654"
      ]
     },
     "execution_count": 5,
     "metadata": {},
     "output_type": "execute_result"
    }
   ],
   "source": [
    "# 할인을 받아 결제한 사람과, 정가 결제 한 사람의 인원 수 구하기\n",
    "# ⇒ group이라는 열에서 1인 숫자를 count 즉, 세면 되겠죠!\n",
    "# sparta_data['group'] ==1 이라는 조건을 두고 그것이 일치하는 user의 수를 세면 됩니다!\n",
    "# 이때의 ==은 우리가 알고 있는 \"equal\" = 과 동일한 뜻입니다! (파이선에서 = 는 변수 지정 할때만 쓰입니다. 소곤소곤)\n",
    "# 할인 혜택 받지 않은 사람의 결제 수\n",
    "\n",
    "sum_of_students_by_discounted = sparta_data[sparta_data['group']==1]['user_id'].count()\n",
    "sum_of_students_by_discounted"
   ]
  },
  {
   "cell_type": "code",
   "execution_count": 6,
   "metadata": {},
   "outputs": [
    {
     "data": {
      "text/plain": [
       "2474"
      ]
     },
     "execution_count": 6,
     "metadata": {},
     "output_type": "execute_result"
    }
   ],
   "source": [
    "# 동일한 방법으로 할인혜택을 받지 않는 고객을 sparta_data['group'] ==0 이라는 조건을 두고 그것이 일치하는 user의 수를 세볼까요?\n",
    "# 이때의 ==은 우리가 알고 있는 \"equal\" = 과 동일한 뜻입니다!\n",
    "# 할인 혜택 받은 사람의 결제 수\n",
    "\n",
    "sum_of_students_by_not_discounted = sparta_data[sparta_data['group']==0]['user_id'].count()\n",
    "sum_of_students_by_not_discounted"
   ]
  },
  {
   "cell_type": "code",
   "execution_count": 7,
   "metadata": {},
   "outputs": [
    {
     "name": "stdout",
     "output_type": "stream",
     "text": [
      "20.616666666666667 47.11666666666667\n"
     ]
    }
   ],
   "source": [
    "# 각 그룹의 결제 전환율 구하기 \n",
    "# 각 결제 인원에서 실제 실험 인원인 12000명을 나누고 각 퍼센테이지 구하기\n",
    "\n",
    "percent_of_students_by_not_discounted = sum_of_students_by_not_discounted/12000 *100\n",
    "percent_of_students_by_discounted = sum_of_students_by_discounted/12000 *100\n",
    "print(percent_of_students_by_not_discounted , percent_of_students_by_discounted )"
   ]
  },
  {
   "cell_type": "code",
   "execution_count": 8,
   "metadata": {},
   "outputs": [
    {
     "data": {
      "image/png": "[encoded data removed]",
      "text/plain": [
       "<Figure size 1000x500 with 1 Axes>"
      ]
     },
     "metadata": {},
     "output_type": "display_data"
    }
   ],
   "source": [
    "# 바 그래프 그리기\n",
    "# 그래프 사이즈 \n",
    "\n",
    "plt.figure(figsize=(10,5))\n",
    "\n",
    "# x 그룹 지정하기 \n",
    "\n",
    "x_list =[\"정가 구입 그룹\", \"할인 적용 그룹\"]\n",
    "\n",
    "# y 값\n",
    "# 각각 어떤 값이 들어가야 하는지 입력해 볼까요?\n",
    "\n",
    "y_list = [percent_of_students_by_not_discounted,percent_of_students_by_discounted]\n",
    "\n",
    "# x,y값 설정\n",
    "\n",
    "plt.bar(x_list, y_list)\n",
    "\n",
    "# 그래프 타이틀\n",
    "\n",
    "plt.title('할인 여부 결제 전환율 비교 분석')\n",
    "\n",
    "# x축 레이블\n",
    "\n",
    "plt.xlabel('할인 적용 여부')\n",
    "\n",
    "# y축 레이블\n",
    "\n",
    "plt.ylabel('결제 전환율')\n",
    "\n",
    "# 그래프 보여주기\n",
    "\n",
    "plt.show()"
   ]
  },
  {
   "cell_type": "code",
   "execution_count": 9,
   "metadata": {},
   "outputs": [
    {
     "data": {
      "text/plain": [
       "discounted\n",
       "10000.0     808\n",
       "20000.0    1588\n",
       "30000.0    3258\n",
       "Name: user_id, dtype: int64"
      ]
     },
     "execution_count": 9,
     "metadata": {},
     "output_type": "execute_result"
    }
   ],
   "source": [
    "# 할인 금액별 결제자 수 구하기\n",
    "\n",
    "app_users_discounted=sparta_data.groupby('discounted')['user_id'].count()\n",
    "app_users_discounted"
   ]
  },
  {
   "cell_type": "code",
   "execution_count": 10,
   "metadata": {},
   "outputs": [
    {
     "data": {
      "image/png": "[encoded data removed]",
      "text/plain": [
       "<Figure size 1000x500 with 1 Axes>"
      ]
     },
     "metadata": {},
     "output_type": "display_data"
    }
   ],
   "source": [
    "# 그래프 사이즈 \n",
    "\n",
    "plt.figure(figsize=(10,5))\n",
    "x_list =[\"1만원 쿠폰 그룹\",\"2만원 쿠폰 그룹\",\"3만원 쿠폰 그룹\"]\n",
    "\n",
    "# x,y값 설정\n",
    "\n",
    "plt.bar(x_list, app_users_discounted.values)\n",
    "\n",
    "# 그래프 타이틀\n",
    "\n",
    "plt.title('할인 율 별 수강 신청 자 수')\n",
    "\n",
    "# x축 레이블\n",
    "\n",
    "plt.xlabel('할인 적용 범위')\n",
    "\n",
    "# y축 레이블\n",
    "\n",
    "plt.ylabel('수업 신청한 수강생')\n",
    "\n",
    "# 그래프 보여주기\n",
    "\n",
    "plt.show()"
   ]
  }
 ],
 "metadata": {
  "kernelspec": {
   "display_name": "Python 3",
   "language": "python",
   "name": "python3"
  },
  "language_info": {
   "codemirror_mode": {
    "name": "ipython",
    "version": 3
   },
   "file_extension": ".py",
   "mimetype": "text/x-python",
   "name": "python",
   "nbconvert_exporter": "python",
   "pygments_lexer": "ipython3",
   "version": "3.12.1"
  }
 },
 "nbformat": 4,
 "nbformat_minor": 2
}
