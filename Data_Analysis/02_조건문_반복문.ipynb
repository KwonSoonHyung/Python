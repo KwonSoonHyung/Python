{
 "cells": [
  {
   "cell_type": "markdown",
   "metadata": {},
   "source": [
    "```python\n",
    "\n",
    "if <조건문>:\n",
    "    <조건이 성립되면 실행되는 문>\n",
    "else:\n",
    "    <조건이 성립되지 않으면 실행되는 문>"
   ]
  },
  {
   "cell_type": "code",
   "execution_count": null,
   "metadata": {},
   "outputs": [],
   "source": [
    "age = 20\n",
    "\n",
    "if age >= 20:\n",
    "    print('성인입니다')  # 조건이 참이면 성인입니다를 출력\n",
    "else:\n",
    "    print('청소년이에요')  # 조건이 거짓이면 청소년이에요를 출력\n",
    "\n",
    "# age = 17 로 하면 무엇이 출력될까요?\n",
    "    \n",
    "age = 17\n",
    "\n",
    "if age >= 20:\n",
    "    print('성인입니다')  # 조건이 참이면 성인입니다를 출력\n",
    "else:\n",
    "    print('청소년이에요')  # 조건이 거짓이면 청소년이에요를 출력\n",
    "\n",
    "# 조건을 여러 개 사용하고 싶을 때\n",
    "\n",
    "age = 65\n",
    "\n",
    "if age > 80:\n",
    "    print('아직 정정하시군요') # 조건이 참이면 아직 정정하시군요를 출력\n",
    "elif age > 60:\n",
    "    print('인생은 60부터!') # 조건이 60보다 작으면 인생은 60부터!를 출력\n",
    "else:\n",
    "    print('아직어려요!') # 두 조건이 아니면 아직어려요!를 출력\n",
    "\n",
    "# age = 20 하면 무엇이 출력될까요?"
   ]
  },
  {
   "cell_type": "markdown",
   "metadata": {},
   "source": [
    "```python\n",
    "\n",
    "for x in 리스트:\n",
    "  수행할 문장"
   ]
  },
  {
   "cell_type": "code",
   "execution_count": null,
   "metadata": {},
   "outputs": [],
   "source": [
    "fruits = ['사과', '배', '감', '귤']\n",
    "\n",
    "for fruit in fruits:  # fruit 은 우리가 임의로 지어준 이름입니다.\n",
    "    print(fruit)  # 사과, 배, 감, 귤 하나씩 꺼내어 출력합니다.\n",
    "\n",
    "# 과일 갯수 세기\n",
    "\n",
    "fruits = ['사과', '배', '배', '감', '수박', '귤', '딸기', '사과', '배', '수박']\n",
    "\n",
    "count = 0\n",
    "\n",
    "for fruit in fruits:\n",
    "    if fruit == '사과':\n",
    "        count = count + 1\n",
    "\n",
    "# 사과의 갯수를 출력합니다.\n",
    "\n",
    "print(count)\n",
    "\n",
    "student_height = {'김철수' : 171, '이슬기': 160, '양승화': 180, '이진화': 175}\n",
    "\n",
    "for x in student_height:\n",
    "  if student_height[x]>170:\n",
    "    print(x)\n",
    "\n",
    "# 결과는 키가 170 이상인 학생인 김철수, 양승화, 이진화 순으로 출력 됩니다."
   ]
  },
  {
   "cell_type": "code",
   "execution_count": null,
   "metadata": {},
   "outputs": [],
   "source": [
    "student_height = {'김철수' : 171, '이슬기': 160, '양승화': 180, '이진화': 175}\n",
    "\n",
    "for x in student_height:\n",
    "  if student_height[x]>170:\n",
    "    print(x)\n",
    "\n",
    "# 결과는 키가 170 이상인 학생인 김철수, 양승화, 이진화 순으로 출력 됩니다."
   ]
  },
  {
   "cell_type": "markdown",
   "metadata": {},
   "source": [
    "```python\n",
    "\n",
    "비교 연산자란?\n",
    "\n",
    "주어진 두개의 값을 비교하고, 해당 결과를 True(참), False(거짓)으로 나타냅니다.\n",
    "\n",
    "비교 연산자는 조건문에 유용하게 많이 쓰입니다."
   ]
  },
  {
   "cell_type": "code",
   "execution_count": null,
   "metadata": {},
   "outputs": [],
   "source": [
    "#파이썬의 비교 연산자\n",
    "\n",
    "x = 5\n",
    "y = 10\n",
    "ans1 = x > y\n",
    "ans2 = y > x \n",
    "\n",
    "print(ans1) # False\n",
    "print(ans2) # True"
   ]
  }
 ],
 "metadata": {
  "kernelspec": {
   "display_name": "Python 3",
   "language": "python",
   "name": "python3"
  },
  "language_info": {
   "codemirror_mode": {
    "name": "ipython",
    "version": 3
   },
   "file_extension": ".py",
   "mimetype": "text/x-python",
   "name": "python",
   "nbconvert_exporter": "python",
   "pygments_lexer": "ipython3",
   "version": "3.12.0"
  }
 },
 "nbformat": 4,
 "nbformat_minor": 2
}
