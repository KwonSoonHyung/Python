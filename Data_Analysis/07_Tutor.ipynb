{
 "cells": [
  {
   "cell_type": "markdown",
   "metadata": {},
   "source": [
    "#### 데이터 분석\n",
    "\n",
    "- 문제 정의 = 효울적인 즉문즉답 서비스 운영을 위해 튜터 배치 시간대를 확인하자\n",
    "- 가설 설정 = 수강생들의 수업 완료 시간대는 주로 한가한 주말일 것이다(증명해보기)\n",
    "- 데이터 분석 기본 세팅\n",
    "- 데이터 분석\n",
    "- 분석 결과 시각화\n",
    "- 최종 결론\n",
    "    - 요일 별 수강 완료 수강생은 주말이 아니라, 평일 화요일에 가장 많았고 그 다음은 월요일이 가장 많았습니다.\n",
    "    - 따라서 수요일 혹은 목요일에 가장 많은 튜터님들의 추가 배치가 필요 할 것 같네요!\n",
    "\n",
    "#### 좋은 가설이란?\n",
    "\n",
    "- 풀고자 하는 문제의 방향성과 일치하는 가설 → 무슨 문제를 풀고자 하는지 명확히 알 것\n",
    "- 테스트 가능한 가설 → 데이터로 확인이 가능한 가설을 세울 것\n",
    "- 액션으로 이어질 수 있는 가설 → 가설 검증 후 결과에 따라 특정 액션으로 유도될 수 있을 것"
   ]
  },
  {
   "cell_type": "code",
   "execution_count": null,
   "metadata": {},
   "outputs": [],
   "source": [
    "# Pandas 라이브러리 불러오기\n",
    "\n",
    "import pandas as pd\n",
    "\n",
    "# 수강생 수강 파일 불러오기\n",
    "\n",
    "sparta_data = pd.read_table('../Data/done_detail.csv',sep=',')\n",
    "sparta_data.head()"
   ]
  },
  {
   "cell_type": "code",
   "execution_count": null,
   "metadata": {},
   "outputs": [],
   "source": [
    "# 시간데이터로 변환\n",
    "# format='%Y-%m-%dT%H:%M:%S.%f'\n",
    "# sparta_data['done_date_time'] = pd.to_datetime(sparta_data['done_date'], format=format)\n",
    "# sparta_data.tail(5)\n",
    "\n",
    "sparta_data['done_date_time'] = pd.to_datetime(sparta_data['done_date'], format='ISO8601')\n",
    "sparta_data.tail(5)"
   ]
  },
  {
   "cell_type": "code",
   "execution_count": null,
   "metadata": {},
   "outputs": [],
   "source": [
    "# 요일 추가하기\n",
    "\n",
    "sparta_data['done_date_time_weekday'] = sparta_data['done_date_time'].dt.day_name()\n",
    "sparta_data.tail(5)"
   ]
  },
  {
   "cell_type": "code",
   "execution_count": null,
   "metadata": {},
   "outputs": [],
   "source": [
    "# 요일 별 수강완료 수강생 수 전처리 하기\n",
    "\n",
    "weeks = ['Monday', 'Tuesday', 'Wednesday', 'Thursday', 'Friday', 'Saturday', 'Sunday']\n",
    "weekdata = sparta_data.groupby('done_date_time_weekday')['user_id'].count()\n",
    "weekdata = weekdata.agg(weeks)\n",
    "weekdata\n"
   ]
  },
  {
   "cell_type": "code",
   "execution_count": null,
   "metadata": {},
   "outputs": [],
   "source": [
    "# 시각화 라이브러리 불러오기\n",
    "\n",
    "import matplotlib.pyplot as plt\n",
    "import numpy as np\n",
    "\n",
    "# 글씨 깨짐방지\n",
    "\n",
    "!sudo apt-get install -y fonts-nanum\n",
    "!sudo fc-cache -fv\n",
    "!rm ~/.cache/matplotlib -rf\n",
    "\n",
    "# 폰트 설정\n",
    "\n",
    "plt.rc('font', family='Malgun Gothic')"
   ]
  },
  {
   "cell_type": "code",
   "execution_count": null,
   "metadata": {},
   "outputs": [],
   "source": [
    "# 요일 별 수강완료 수강생 수 라인 그래프 그리기\n",
    "# 그래프 사이즈\n",
    "\n",
    "plt.figure(figsize=(10,5))\n",
    "\n",
    "# 그래프 x축 y축\n",
    "\n",
    "plt.bar(weekdata.index, weekdata)\n",
    "\n",
    "# 그래프 명\n",
    "\n",
    "plt.title('요일별 수강 완료 수강생 수')\n",
    "\n",
    "# 그래프 x축 레이블\n",
    "\n",
    "plt.xlabel('요일')\n",
    "\n",
    "# 그래프 y축 레이블\n",
    "\n",
    "plt.ylabel('수강생(명)')\n",
    "\n",
    "# x축 레이블을 90도로 변환 \n",
    "\n",
    "plt.xticks(rotation=90)\n",
    "\n",
    "# 그래프 출력\n",
    "\n",
    "plt.show()"
   ]
  }
 ],
 "metadata": {
  "kernelspec": {
   "display_name": "Python 3",
   "language": "python",
   "name": "python3"
  },
  "language_info": {
   "codemirror_mode": {
    "name": "ipython",
    "version": 3
   },
   "file_extension": ".py",
   "mimetype": "text/x-python",
   "name": "python",
   "nbconvert_exporter": "python",
   "pygments_lexer": "ipython3",
   "version": "3.12.1"
  }
 },
 "nbformat": 4,
 "nbformat_minor": 2
}
