{
 "cells": [
  {
   "cell_type": "code",
   "execution_count": null,
   "metadata": {},
   "outputs": [],
   "source": [
    "print('hello world!!')"
   ]
  },
  {
   "cell_type": "code",
   "execution_count": null,
   "metadata": {},
   "outputs": [],
   "source": [
    "# 변수 지정\n",
    "\n",
    "X = 5\n",
    "Y = 7\n",
    "hello = 'world'\n",
    "\n",
    "print(X)\n",
    "print(Y)\n",
    "print(hello)\n",
    "\n",
    "X + Y\n",
    "X - Y\n",
    "X * Y\n",
    "X / Y"
   ]
  },
  {
   "cell_type": "code",
   "execution_count": null,
   "metadata": {},
   "outputs": [],
   "source": [
    "# 리스트 만들기\n",
    "\n",
    "a_list = [1, 2, 3, 4, 5]\n",
    "print(a_list)\n",
    "\n",
    "# 문자가 들어간 리스트 만들기\n",
    "\n",
    "b_list = [1, '2345', '6', 8, 9]\n",
    "print(b_list)\n",
    "\n",
    "# 리스트 안에는 무엇이든 들어갈 수 있다\n",
    "\n",
    "c_list = [1, 2, 3, [4]]\n",
    "print(c_list)\n",
    "\n",
    "# 리스트에서 특정 문자열 가져오기\n",
    "# 리스트 순서는 첫번째가 0부터 시작\n",
    "\n",
    "print(b_list[0])\n",
    "\n",
    "# 리스트 인덱스로 데이터를 호출 하는 연습을 해봅시다.\n",
    "\n",
    "list_exercise = [3,4,[5,6],8]\n",
    "\n",
    "print(list_exercise[1])\n",
    "print(list_exercise[2])\n",
    "print(list_exercise[2][0])"
   ]
  },
  {
   "cell_type": "code",
   "execution_count": null,
   "metadata": {},
   "outputs": [],
   "source": [
    "# 딕셔너리 만들기\n",
    "\n",
    "dic_exercise = {'Jack' : 32,'Ritika' : 31, 'Mathew' : 27}\n",
    "\n",
    "print(dic_exercise['Jack'])\n",
    "\n",
    "# dic_exercise로 딕셔너리 값을 호출 하는 연습을 해봅시다.\n",
    "\n",
    "dic_exercise = {'name':'bob','age':21,'height':180}\n",
    "\n",
    "print(dic_exercise['name'])\n",
    "print(dic_exercise['age'])\n",
    "print(dic_exercise['height'])\n",
    "\n",
    "# 스파르타 호텔 예약 5명 고객 명단 만들어 보기\n",
    "\n",
    "hotel_customer = [\"김철수\",\"박진주\",\"김소영\",\"김은비\",\"이단비\"]\n",
    "\n",
    "# 스파르타 호텔 예약한 고객 중 2번째 고객 불러 오기\n",
    "\n",
    "print(hotel_customer[1]) # 박진주\n",
    "\n",
    "# 리스트의 순서는 0 부터 시작 합니다 :)\n",
    "\n",
    "# 스파르타 호텔 예약 5명 고객 룸 지정 하기\n",
    "\n",
    "reserved_room = {\"김철수\":1, \"박진주\":2, \"김소영\":3, \"김은비\":4, \"이단비\":5}\n",
    "\n",
    "print(reserved_room[\"김철수\"]) # 1"
   ]
  }
 ],
 "metadata": {
  "kernelspec": {
   "display_name": "Python 3",
   "language": "python",
   "name": "python3"
  },
  "language_info": {
   "codemirror_mode": {
    "name": "ipython",
    "version": 3
   },
   "file_extension": ".py",
   "mimetype": "text/x-python",
   "name": "python",
   "nbconvert_exporter": "python",
   "pygments_lexer": "ipython3",
   "version": "3.12.0"
  }
 },
 "nbformat": 4,
 "nbformat_minor": 2
}
