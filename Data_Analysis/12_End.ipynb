{
 "cells": [
  {
   "cell_type": "markdown",
   "metadata": {},
   "source": [
    "#### 데이터 분석\n",
    "\n",
    "- 문제 정의 = 강의 완주율이 하락하는 중으로 무엇이 완주율에 가장 큰 영향을 미치는지 확인해보자\n",
    "- 가설 설정\n",
    "    - 저번주 이벤트에서 메인 타겟인 20대 ~ 30대 인원의 참여율이 저조했으므로 강의에 문제가 있어 20대 ~ 30대 완주율이 낮을 것이다.\n",
    "    - 찐한 관리가 미흡했을것이다.\n",
    "        - 강의를 들을 수 있는 타임 테이블을 체크한다(시간)\n",
    "        - 강의를 들을 마음이 생기도록 동기부여를 시킨다(동기부여)\n",
    "        - 목표를 설정하여 강의를 끝까지 듣게 만든다(목표)\n",
    "- 데이터 분석 기본 세팅\n",
    "- 데이터 분석\n",
    "- 분석 결과 시각화\n",
    "- 최종 결론\n",
    "    - 20대 ~ 30대 메인 타겟 인원의 완주율이 다른 나이대와 비슷하다\n",
    "    - 강의 품질 개선이나 광고 메인 타겟의 문제가 아님을 확인 했다\n",
    "    - 강의에 대한 문제가 아니기에 찐한 관리를 통한 완주률을 높이자\n",
    "    - 찐한 관리를 통해 시간, 동기부여, 목표를 부여한다\n",
    "\n",
    "#### 좋은 가설이란?\n",
    "\n",
    "- 풀고자 하는 문제의 방향성과 일치하는 가설 → 무슨 문제를 풀고자 하는지 명확히 알 것\n",
    "- 테스트 가능한 가설 → 데이터로 확인이 가능한 가설을 세울 것\n",
    "- 액션으로 이어질 수 있는 가설 → 가설 검증 후 결과에 따라 특정 액션으로 유도될 수 있을 것"
   ]
  },
  {
   "cell_type": "code",
   "execution_count": null,
   "metadata": {},
   "outputs": [],
   "source": [
    "# Pandas 라이브러리 불러오기\n",
    "\n",
    "import pandas as pd\n",
    "\n",
    "# 수강생 수강 파일 불러오기\n",
    "\n",
    "sparta_data = pd.read_table('../Data/sprata_data.csv',sep=',')\n",
    "sparta_data.head()"
   ]
  },
  {
   "cell_type": "code",
   "execution_count": null,
   "metadata": {},
   "outputs": [],
   "source": [
    "# 시각화 라이브러리 불러오기\n",
    "\n",
    "import matplotlib.pyplot as plt\n",
    "import numpy as np\n",
    "\n",
    "# 글씨 깨짐방지\n",
    "\n",
    "!sudo apt-get install -y fonts-nanum\n",
    "!sudo fc-cache -fv\n",
    "!rm ~/.cache/matplotlib -rf\n",
    "\n",
    "# 폰트 설정\n",
    "\n",
    "plt.rc('font', family='Malgun Gothic')"
   ]
  },
  {
   "cell_type": "code",
   "execution_count": null,
   "metadata": {},
   "outputs": [],
   "source": [
    "# 나이대별 완주율의 평균 구하기\n",
    "# 나이대별 수강률 합 구하기\n",
    "\n",
    "progress_rate_by_age = sparta_data.groupby('age')['progress_rate'].sum()\n",
    "progress_rate_by_age"
   ]
  },
  {
   "cell_type": "code",
   "execution_count": null,
   "metadata": {},
   "outputs": [],
   "source": [
    "# 나이대별 수강인원 구하기\n",
    "\n",
    "number_people_by_age = sparta_data.groupby('age')['_id'].count()\n",
    "number_people_by_age"
   ]
  },
  {
   "cell_type": "code",
   "execution_count": null,
   "metadata": {},
   "outputs": [],
   "source": [
    "# 나이대별 완주율 평균 구하기\n",
    "\n",
    "average = progress_rate_by_age/number_people_by_age\n",
    "average"
   ]
  },
  {
   "cell_type": "code",
   "execution_count": null,
   "metadata": {},
   "outputs": [],
   "source": [
    "# 바 그래프 그리기\n",
    "# plt.figure(width, height) : 넓이와 높이 만큼 이미지를 생성한다는 것을 말해줍니다!\n",
    "\n",
    "plt.figure(figsize=(6,6))\n",
    "\n",
    "# 그래프의 x축 눈금 설정\n",
    "\n",
    "plt.xticks([10,20,30,40,50])\n",
    "\n",
    "# plt.bar(X축값, Y축값)\n",
    "\n",
    "plt.bar(average.index, average,width=8)\n",
    "\n",
    "\n",
    "# 그래프의 바에 각 수치율을 추가 해 볼까요?\n",
    "\n",
    "bar = plt.bar(average.index, average,width=8)\n",
    "for rect in bar:\n",
    "    height = rect.get_height()\n",
    "    plt.text(rect.get_x() + rect.get_width()/2.0, height, '%.1f' % height, ha='center', va='bottom', size = 12)\n",
    "\n",
    "\n",
    "# 그래프의 제목\n",
    "\n",
    "plt.title('[나이대별 평균 수강율]',fontsize=15,pad=20)\n",
    "\n",
    "# 그래프의 x축 라벨 이름\n",
    "\n",
    "plt.xlabel('나이',fontsize=12,labelpad=20)\n",
    "\n",
    "# 그래프의 y축 라벨 이름\n",
    "\n",
    "plt.ylabel('수강생(명)',fontsize=14,rotation=360,labelpad=35)\n",
    "\n",
    "# 그래프를 화면에 나타나도록 합니다.\n",
    "\n",
    "plt.show()"
   ]
  }
 ],
 "metadata": {
  "kernelspec": {
   "display_name": "Python 3",
   "language": "python",
   "name": "python3"
  },
  "language_info": {
   "codemirror_mode": {
    "name": "ipython",
    "version": 3
   },
   "file_extension": ".py",
   "mimetype": "text/x-python",
   "name": "python",
   "nbconvert_exporter": "python",
   "pygments_lexer": "ipython3",
   "version": "3.12.1"
  }
 },
 "nbformat": 4,
 "nbformat_minor": 2
}
