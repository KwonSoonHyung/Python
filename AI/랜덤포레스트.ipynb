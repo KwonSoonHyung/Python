{
 "cells": [
  {
   "cell_type": "code",
   "execution_count": null,
   "id": "initial_id",
   "metadata": {
    "collapsed": true
   },
   "outputs": [],
   "source": [
    "import pandas as pd\n",
    "from sklearn.ensemble import RandomForestRegressor\n",
    "\n",
    "# 입력 데이터(X)와 예측 변수(y) 분리\n",
    "X = All_Stock_cosine.drop('코사인_평균', axis=1)\n",
    "y = All_Stock_cosine['코사인_평균']\n",
    "\n",
    "# 랜덤포레스트 모델 생성 및 학습\n",
    "model = RandomForestRegressor()\n",
    "model.fit(X, y)\n",
    "\n",
    "# 변수 중요도 계산\n",
    "importance = model.feature_importances_\n",
    "\n",
    "# 변수 중요도 확인\n",
    "# 특정 컬럼과 유사한 영향을 미치는 다른 컬럼\n",
    "target_column = '종가_OHLC_괴리율'\n",
    "similar_columns = []\n",
    "threshold = 0.1  # 임계값 설정\n",
    "for i, value in enumerate(importance):\n",
    "    if value > threshold:\n",
    "        if X.columns[i] != target_column:\n",
    "            similar_columns.append(X.columns[i])\n",
    "\n",
    "# 가장 유사한 영향을 미치는 상위 5개 컬럼 추출\n",
    "top_5_similar_columns = sorted(similar_columns, key=lambda x: importance[X.columns.get_loc(x)], reverse=True)[:5]\n",
    "\n",
    "print(\"가장 유사한 영향을 미치는 상위 5개 컬럼:\")\n",
    "for column in top_5_similar_columns:\n",
    "    weight = importance[X.columns.get_loc(column)]\n",
    "    print(f\"{column} (가중치: {weight:.2f})\")"
   ]
  }
 ],
 "metadata": {
  "kernelspec": {
   "display_name": "Python 3",
   "language": "python",
   "name": "python3"
  },
  "language_info": {
   "codemirror_mode": {
    "name": "ipython",
    "version": 2
   },
   "file_extension": ".py",
   "mimetype": "text/x-python",
   "name": "python",
   "nbconvert_exporter": "python",
   "pygments_lexer": "ipython2",
   "version": "2.7.6"
  }
 },
 "nbformat": 4,
 "nbformat_minor": 5
}
