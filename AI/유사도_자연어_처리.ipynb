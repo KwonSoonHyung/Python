{
 "cells": [
  {
   "cell_type": "markdown",
   "source": [
    "# 유클리드 거리"
   ],
   "metadata": {
    "collapsed": false
   },
   "id": "8d769d63790c6f3f"
  },
  {
   "cell_type": "code",
   "execution_count": null,
   "id": "initial_id",
   "metadata": {
    "collapsed": true
   },
   "outputs": [],
   "source": [
    "import pandas as pd\n",
    "import numpy as np\n",
    "\n",
    "# 유클리드 거리 계산 함수\n",
    "def euclidean_distance(vector1, vector2):\n",
    "    vector1 = np.array(vector1)\n",
    "    vector2 = np.array(vector2)\n",
    "    distance = np.linalg.norm(vector1 - vector2)\n",
    "    return distance\n",
    "\n",
    "# 초기 데이터프레임\n",
    "df = pd.DataFrame(z_scores)\n",
    "df_name = 'z_scores'\n",
    "pattern_column = '종가_OHLC_괴리율'\n",
    "index_length = len(z_scores.index)\n",
    "\n",
    "# 반복을 위한 데이터프레임 초기화\n",
    "new_df = pd.DataFrame(index=range(index_length))\n",
    "\n",
    "distances = []  # 유클리드 거리를 저장할 리스트\n",
    "\n",
    "for i in range(2, len(df.columns)):\n",
    "    # 컬럼 이름 추출\n",
    "    column_name = df.columns[i]\n",
    "    \n",
    "    # 패턴 컬럼 추출\n",
    "    pattern = df.iloc[:, i].tolist()\n",
    "    \n",
    "    # 새로운 데이터 프레임 패턴 컬럼 추가\n",
    "    new_df[column_name] = pattern\n",
    "    \n",
    "    # 유클리드 거리 계산\n",
    "    distance = euclidean_distance(df[pattern_column].tolist(), pattern)\n",
    "    distances.append((column_name, distance))  # 컬럼 이름과 유클리드 거리를 튜플로 저장\n",
    "\n",
    "# 유클리드 거리를 기준으로 상위 5개 컬럼 추출\n",
    "top_5_columns = sorted(distances, key=lambda x: x[1])[:5]\n",
    "\n",
    "print(\"가장 유사한 패턴을 가진 상위 5개 컬럼:\")\n",
    "for column in top_5_columns:\n",
    "    print(f\"컬럼 {column[0]}: 유클리드 거리 {column[1]:.2f}\")"
   ]
  },
  {
   "cell_type": "markdown",
   "source": [
    "# 코사인 유사도"
   ],
   "metadata": {
    "collapsed": false
   },
   "id": "4c37546eefbc27b2"
  },
  {
   "cell_type": "code",
   "outputs": [],
   "source": [
    "import pandas as pd\n",
    "from sklearn.metrics.pairwise import cosine_similarity\n",
    "\n",
    "# 데이터 프레임 벡터 표현 추출\n",
    "# 행과 열 스위칭\n",
    "vectors = All_Stock_cosine.values.T\n",
    "\n",
    "# 기존 데이터 프레임 컬럼 이름 추출\n",
    "column_names = All_Stock_cosine.columns\n",
    "\n",
    "# 코사인 유사도 계산\n",
    "cosine_sim = cosine_similarity(vectors)\n",
    "\n",
    "# 코사인 유사도 결과를 데이터 프레임 변환\n",
    "cosine_sim_df = pd.DataFrame(cosine_sim, columns=column_names, index=column_names)\n",
    "\n",
    "# 첫 번째 컬럼과 가장 유사한 코사인 유사도 정렬 상위 5개 추출\n",
    "similar_columns = cosine_sim_df.iloc[:, 0].sort_values(ascending=False)[1:6]\n",
    "\n",
    "print(\"가중치가 높은 상위 5개의 유사한 컬럼:\")\n",
    "for column in similar_columns.index:\n",
    "    weight = similar_columns[column]\n",
    "    print(f\"{column} (가중치: {weight:.2f})\")"
   ],
   "metadata": {
    "collapsed": false
   },
   "id": "bf52110d883ae7b5"
  },
  {
   "cell_type": "markdown",
   "source": [
    "# 자카드 유사도"
   ],
   "metadata": {
    "collapsed": false
   },
   "id": "b7bd04591f72e184"
  },
  {
   "cell_type": "code",
   "outputs": [],
   "source": [
    "import pandas as pd\n",
    "\n",
    "# 데이터 프레임\n",
    "All_Stock_Rate = pd.DataFrame(All_Stock_Rate)\n",
    "\n",
    "# 기준 컬럼\n",
    "base_column = '수익률'\n",
    "\n",
    "# 기준 컬럼의 집합\n",
    "base_set = set(All_Stock_Rate[base_column])\n",
    "\n",
    "# 변수 초기화\n",
    "similar_columns = []\n",
    "similarities = []\n",
    "\n",
    "# 나머지 컬럼의 자카드 유사도 계산\n",
    "for column in All_Stock_Rate.columns[1:]:\n",
    "    # 비교할 컬럼의 집합 구하기\n",
    "    compare_set = set(All_Stock_Rate[column])\n",
    "    \n",
    "    # 집합의 길이가 0인 경우, 자카드 유사도 0으로 설정\n",
    "    if len(base_set) == 0 or len(compare_set) == 0:\n",
    "        jaccard_similarity = 0\n",
    "    else:\n",
    "        # 집합의 길이가 다른 경우, 짧은 집합을 기준으로 자카드 유사도 계산\n",
    "        if len(base_set) <= len(compare_set):\n",
    "            intersection = base_set.intersection(compare_set)\n",
    "            jaccard_similarity = len(intersection) / len(base_set)\n",
    "        else:\n",
    "            intersection = compare_set.intersection(base_set)\n",
    "            jaccard_similarity = len(intersection) / len(compare_set)\n",
    "    \n",
    "    # 유사한 컬럼과 유사도 리스트 저장\n",
    "    similar_columns.append(column)\n",
    "    similarities.append(jaccard_similarity)\n",
    "\n",
    "# 유사도 기준 상위 5개 컬럼 추출\n",
    "top_similar_columns = [x for _, x in sorted(zip(similarities, similar_columns), reverse=True)][:5]\n",
    "\n",
    "# 상위 5개의 유사한 컬럼 출력\n",
    "print(\"가중치가 높은 상위 5개의 유사한 컬럼:\")\n",
    "for column in top_similar_columns:\n",
    "    weight = similarities[similar_columns.index(column)]\n",
    "    print(f\"{column} (가중치: {weight:.2f})\")"
   ],
   "metadata": {
    "collapsed": false
   },
   "id": "15ed5f5951d1b871"
  }
 ],
 "metadata": {
  "kernelspec": {
   "display_name": "Python 3",
   "language": "python",
   "name": "python3"
  },
  "language_info": {
   "codemirror_mode": {
    "name": "ipython",
    "version": 2
   },
   "file_extension": ".py",
   "mimetype": "text/x-python",
   "name": "python",
   "nbconvert_exporter": "python",
   "pygments_lexer": "ipython2",
   "version": "2.7.6"
  }
 },
 "nbformat": 4,
 "nbformat_minor": 5
}
