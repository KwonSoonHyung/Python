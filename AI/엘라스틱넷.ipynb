{
 "cells": [
  {
   "cell_type": "markdown",
   "source": [
    "# ElasticNet"
   ],
   "metadata": {
    "collapsed": false
   },
   "id": "56cc7f0733cefd07"
  },
  {
   "cell_type": "code",
   "execution_count": null,
   "id": "initial_id",
   "metadata": {
    "collapsed": true
   },
   "outputs": [],
   "source": [
    "from sklearn.linear_model import ElasticNet\n",
    "\n",
    "# ElasticNet 모델 객체 생성\n",
    "model = ElasticNet(alpha=0.5, l1_ratio=0.5)\n",
    "\n",
    "# 데이터 학습\n",
    "model.fit(All_Stock_cosine.iloc[:, 1:], All_Stock_cosine.iloc[:, 0])\n",
    "\n",
    "# 특정 컬럼의 가중치 확인\n",
    "coef = model.coef_\n",
    "column_names = All_Stock_cosine.columns[1:]\n",
    "\n",
    "# 가중치를 기준으로 유사한 컬럼 정렬\n",
    "similar_columns = []\n",
    "\n",
    "for i, val in enumerate(coef):\n",
    "    similar_columns.append((column_names[i], abs(val)))\n",
    "\n",
    "similar_columns.sort(key=lambda x: x[1], reverse=True)\n",
    "\n",
    "# 가장 유사한 5개의 컬럼 추출\n",
    "top_similar_columns = similar_columns[:5]\n",
    "\n",
    "print(\"가중치가 높은 상위 5개의 유사한 컬럼:\")\n",
    "for column, weight in top_similar_columns:\n",
    "    print(f\"{column} (가중치: {weight:.2f})\")"
   ]
  }
 ],
 "metadata": {
  "kernelspec": {
   "display_name": "Python 3",
   "language": "python",
   "name": "python3"
  },
  "language_info": {
   "codemirror_mode": {
    "name": "ipython",
    "version": 2
   },
   "file_extension": ".py",
   "mimetype": "text/x-python",
   "name": "python",
   "nbconvert_exporter": "python",
   "pygments_lexer": "ipython2",
   "version": "2.7.6"
  }
 },
 "nbformat": 4,
 "nbformat_minor": 5
}
