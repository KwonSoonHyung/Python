{
 "cells": [
  {
   "cell_type": "markdown",
   "source": [
    "# 선형 회귀"
   ],
   "metadata": {
    "collapsed": false
   },
   "id": "838a6aeb50e647c7"
  },
  {
   "cell_type": "code",
   "outputs": [],
   "source": [
    "import pandas as pd\n",
    "from sklearn.model_selection import train_test_split\n",
    "from sklearn.preprocessing import StandardScaler\n",
    "from sklearn.linear_model import LinearRegression\n",
    "\n",
    "# 1. 주가 데이터 프레임\n",
    "All_Stock_cosine = pd.DataFrame(All_Stock_cosine)\n",
    "\n",
    "# 2. 특성 데이터 선택 (첫 번째 컬럼 제외)\n",
    "features = All_Stock_cosine.iloc[:, 1:]\n",
    "\n",
    "# 3. 레이블 데이터 선택\n",
    "labels = All_Stock_cosine['코사인_평균']\n",
    "\n",
    "# 4. 학습 데이터, 테스트 데이터 분리\n",
    "X_train, X_test, y_train, y_test = train_test_split(features, labels, test_size=0.2, random_state=42)\n",
    "\n",
    "# 5. 데이터 정규화\n",
    "scaler = StandardScaler()\n",
    "X_train_scaled = scaler.fit_transform(X_train)\n",
    "X_test_scaled = scaler.transform(X_test)\n",
    "\n",
    "# 6. 선형 회귀 모델 학습\n",
    "model = LinearRegression()\n",
    "model.fit(X_train_scaled, y_train)\n",
    "\n",
    "# 7. 모델 평가\n",
    "r2_score = model.score(X_test_scaled, y_test)\n",
    "print(f\"결정 계수 (R^2): {r2_score:.2f}\")\n",
    "\n",
    "# 8. 가장 큰 영향력 특성 이름 5개 출력\n",
    "feature_importances = pd.Series(model.coef_, index=features.columns)\n",
    "top_5_features = feature_importances.abs().nlargest(5).index.tolist()\n",
    "\n",
    "print(\"가장 유사한 영향을 미치는 상위 5개 컬럼:\")\n",
    "for column in top_5_features:\n",
    "    weight = feature_importances[column]\n",
    "    print(f\"{column} (가중치: {weight:.2f})\")"
   ],
   "metadata": {
    "collapsed": false
   },
   "id": "db36cd58453a524"
  },
  {
   "cell_type": "markdown",
   "source": [
    "# 릿지, 라쏘 회귀 = 다중 회귀\n",
    "# 학습 데이터 = 모델 학습, 테스트 데이터 = 모델의 성능을 평가\n",
    "# 일반 모델 보다 향상된 선형 회귀 모델 습득 가능"
   ],
   "metadata": {
    "collapsed": false
   },
   "id": "5e5255849a65ab24"
  },
  {
   "cell_type": "code",
   "outputs": [],
   "source": [
    "from sklearn.linear_model import Ridge\n",
    "from sklearn.model_selection import train_test_split\n",
    "from sklearn.metrics import mean_squared_error\n",
    "from sklearn.metrics.pairwise import cosine_similarity\n",
    "\n",
    "# 변수로 지정된 데이터 프레임 사용\n",
    "All_Stock_cosine = pd.DataFrame(All_Stock_cosine)\n",
    "target_column = '코사인_평균'\n",
    "similar_columns = All_Stock_cosine.columns[1:]\n",
    "\n",
    "# 특성과 타겟 데이터 설정\n",
    "X = All_Stock_cosine[similar_columns]\n",
    "y = All_Stock_cosine[target_column]\n",
    "\n",
    "# 데이터 분할\n",
    "X_train, X_test, y_train, y_test = train_test_split(X, y, test_size=0.3, random_state=42)\n",
    "\n",
    "# 가장 유사한 컬럼 5개 추출\n",
    "cosine_sim = cosine_similarity(X)\n",
    "similar_column_indices = cosine_sim.argsort()[:, -6:-1]  # 가장 유사한 컬럼 5개의 인덱스 추출\n",
    "similar_column_names = X.columns[similar_column_indices[0]]  # 첫 번째 데이터 유사 컬럼 5개 이름 추출\n",
    "similar_column_scores = cosine_sim[0, similar_column_indices[0]]  # 첫 번째 데이터 유사 컬럼 5개 유사도 수치 추출\n",
    "\n",
    "print(\"가장 유사한 컬럼 5개:\")\n",
    "for name, score in zip(similar_column_names, similar_column_scores):\n",
    "    print(f\"{name}: {score}\")\n",
    "\n",
    "X_train_similar = X_train[similar_column_names]\n",
    "X_test_similar = X_test[similar_column_names]\n",
    "\n",
    "# 릿지 회귀 모델 생성\n",
    "ridge = Ridge(alpha=1.0)  # alpha 값 설정\n",
    "\n",
    "# 모델 학습\n",
    "ridge.fit(X_train_similar, y_train)\n",
    "\n",
    "# 모델 예측\n",
    "y_pred = ridge.predict(X_test_similar)\n",
    "\n",
    "# 모델 평가\n",
    "mse = mean_squared_error(y_test, y_pred)\n",
    "print(\"Mean Squared Error:\", mse)"
   ],
   "metadata": {
    "collapsed": false
   },
   "id": "c314ec204949539a",
   "execution_count": 0
  },
  {
   "cell_type": "markdown",
   "source": [
    "# 다항 회귀 = shape 행과 열의 길이가 같아야 한다\n",
    "# 비선형 관계 모델링 구축\n",
    "# 곡선 학습 수행\n",
    "# 다양, 복잡 데이터 패턴 포착 회귀 모델 구축"
   ],
   "metadata": {
    "collapsed": false
   },
   "id": "df7dfc0bc287fa86"
  },
  {
   "cell_type": "code",
   "outputs": [],
   "source": [
    "import pandas as pd\n",
    "import numpy as np\n",
    "from sklearn.preprocessing import PolynomialFeatures\n",
    "from sklearn.linear_model import LinearRegression\n",
    "\n",
    "# 첫 번째 컬럼을 기준 유사한 컬럼 찾기\n",
    "reference_column = All_Stock_Rate.iloc[:, 0].values.reshape(-1, 1)  # 첫 번째 컬럼을 기준으로 2차원 배열로 변환\n",
    "other_columns = All_Stock_Rate.iloc[:, 1:]  # 첫 번째 컬럼을 제외한 나머지 컬럼들 선택\n",
    "\n",
    "# 다항 회귀를 위한 데이터 변환\n",
    "poly = PolynomialFeatures(degree=2)  # 2차 다항식을 생성하기 위한 PolynomialFeatures 객체 생성\n",
    "reference_column_poly = poly.fit_transform(reference_column)  # 첫 번째 컬럼 데이터에 다항식 적용\n",
    "other_columns_poly = poly.transform(other_columns.values)  # 나머지 컬럼 데이터에 다항식 적용 (values 사용)\n",
    "\n",
    "# 유사한 컬럼 찾기\n",
    "similarity_scores = np.abs(reference_column_poly - other_columns_poly).mean(axis=0)  # 첫 번째 컬럼과 다른 컬럼들 간의 평균 절대 차이 계산\n",
    "most_similar_column = other_columns.columns[np.argmin(similarity_scores)]  # 첫 번째 컬럼과 가장 유사한 컬럼 선택\n",
    "\n",
    "print(\"가장 유사한 컬럼:\", most_similar_column)"
   ],
   "metadata": {
    "collapsed": false
   },
   "id": "cefe0b3e07a846cf"
  },
  {
   "cell_type": "code",
   "outputs": [],
   "source": [
    "All_Stock_Rate.shape"
   ],
   "metadata": {
    "collapsed": false
   },
   "id": "b0e5938d49dddb7f"
  }
 ],
 "metadata": {
  "kernelspec": {
   "display_name": "Python 3",
   "language": "python",
   "name": "python3"
  },
  "language_info": {
   "codemirror_mode": {
    "name": "ipython",
    "version": 2
   },
   "file_extension": ".py",
   "mimetype": "text/x-python",
   "name": "python",
   "nbconvert_exporter": "python",
   "pygments_lexer": "ipython2",
   "version": "2.7.6"
  }
 },
 "nbformat": 4,
 "nbformat_minor": 5
}
